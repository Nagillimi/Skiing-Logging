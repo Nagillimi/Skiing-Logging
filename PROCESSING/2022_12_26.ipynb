{
 "cells": [
  {
   "attachments": {},
   "cell_type": "markdown",
   "metadata": {},
   "source": [
    "# December 26, 2022\n",
    "\n",
    "## Notes\n",
    " \n",
    "- Mt Olympia\n",
    "- felt great\n",
    "- not too busy\n",
    "- snow was semi-fast\n"
   ]
  }
 ],
 "metadata": {
  "language_info": {
   "name": "python"
  },
  "orig_nbformat": 4
 },
 "nbformat": 4,
 "nbformat_minor": 2
}
