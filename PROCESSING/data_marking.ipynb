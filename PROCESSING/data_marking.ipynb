{
 "cells": [
  {
   "cell_type": "markdown",
   "metadata": {},
   "source": [
    "# Marking all Data"
   ]
  },
  {
   "cell_type": "code",
   "execution_count": 3,
   "metadata": {},
   "outputs": [],
   "source": [
    "from decode import decode_A50, decode_A50_downhill, decode_F6P, decode_tile\n",
    "import matplotlib.pyplot as plt\n",
    "from sync import syncTile, splitTileIntoDownhillTracks\n",
    "from tile import Tile\n",
    "from track import Track\n",
    "\n",
    "# No tile data was captured\n",
    "# a50_2022_12_24 = decode_A50_downhill(\"../DATA/2022_12_24/Mt Morin Heights/A50/Morning ski at Morin Heights.csv\")\n",
    "# a50_all_2022_12_24 = decode_A50(\"../DATA/2022_12_24/Mt Morin Heights/A50/Morning ski at Morin Heights.csv\")\n",
    "# f6p_2022_12_24 = decode_F6P(\"../DATA/2022_12_24/Mt Morin Heights/F35/10181474438_ACTIVITY.csv\")\n",
    "# tile_2022_12_24 = decode_tile(\"../DATA/2022_12_24/Mt Morin Heights/Tile/SENS000.CSV\")\n",
    "\n",
    "a50_2022_12_26 = decode_A50_downhill(\"../DATA/2022_12_26/Mt Olympia/A50/Morning ski at Olympia.csv\")\n",
    "a50_all_2022_12_26 = decode_A50(\"../DATA/2022_12_26/Mt Olympia/A50/Morning ski at Olympia.csv\")\n",
    "f6p_2022_12_26 = decode_F6P(\"../DATA/2022_12_26/Mt Olympia/F35/10190939007_ACTIVITY.csv\")\n",
    "tile_2022_12_26 = decode_tile(\"../DATA/2022_12_26/Mt Olympia/Tile/SENS000.CSV\")\n",
    "\n",
    "a50_2022_12_27 = decode_A50_downhill(\"../DATA/2022_12_27/Mt Morin Heights/A50/Morning ski at Olympia.csv\")\n",
    "a50_all_2022_12_27 = decode_A50(\"../DATA/2022_12_27/Mt Morin Heights/A50/Morning ski at Olympia.csv\")\n",
    "f6p_2022_12_27 = decode_F6P(\"../DATA/2022_12_27/Mt Morin Heights/F35/10196117595_ACTIVITY.csv\")\n",
    "tile_2022_12_27 = decode_tile(\"../DATA/2022_12_27/Mt Morin Heights/Tile/SENS000.CSV\")\n",
    "\n",
    "a50_2023_12_30 = decode_A50_downhill(\"../DATA/2023_12_30/Mt Olympia/A50/Mount Olympia.csv\")\n",
    "a50_all_2023_12_30 = decode_A50(\"../DATA/2023_12_30/Mt Olympia/A50/Mount Olympia.csv\")\n",
    "f6p_2023_12_30 = decode_F6P(\"../DATA/2023_12_30/Mt Olympia/F6P/13293488821_ACTIVITY.csv\")\n",
    "tile_2023_12_30 = decode_tile(\"../DATA/2023_12_30/Mt Olympia/Tile/SENS000.CSV\")\n",
    "\n",
    "a50_2023_12_31 = decode_A50_downhill(\"../DATA/2023_12_31/Mt St Sauveur/A50/Mount St Sauveur PATCHED.csv\")\n",
    "a50_all_2023_12_31 = decode_A50(\"../DATA/2023_12_31/Mt St Sauveur/A50/Mount St Sauveur PATCHED.csv\")\n",
    "f6p_2023_12_31 = decode_F6P(\"../DATA/2023_12_31/Mt St Sauveur/F6P/13306856415_ACTIVITY.csv\")\n",
    "tile_2023_12_31 = decode_tile(\"../DATA/2023_12_31/Mt St Sauveur/Tile/SENS000.CSV\")\n",
    "\n",
    "a50_2024_01_01 = decode_A50_downhill(\"../DATA/2024_01_01/Mt Morin Heights/A50/Mount Morin Heights.csv\")\n",
    "a50_all_2024_01_01 = decode_A50(\"../DATA/2024_01_01/Mt Morin Heights/A50/Mount Morin Heights.csv\")\n",
    "f6p_2024_01_01 = decode_F6P(\"../DATA/2024_01_01/Mt Morin Heights/F6P/13319383173_ACTIVITY.csv\")\n",
    "tile_2024_01_01 = decode_tile(\"../DATA/2024_01_01/Mt Morin Heights/Tile/SENS000.CSV\")"
   ]
  }
 ],
 "metadata": {
  "kernelspec": {
   "display_name": ".venv",
   "language": "python",
   "name": "python3"
  },
  "language_info": {
   "codemirror_mode": {
    "name": "ipython",
    "version": 3
   },
   "file_extension": ".py",
   "mimetype": "text/x-python",
   "name": "python",
   "nbconvert_exporter": "python",
   "pygments_lexer": "ipython3",
   "version": "3.12.1"
  }
 },
 "nbformat": 4,
 "nbformat_minor": 2
}
