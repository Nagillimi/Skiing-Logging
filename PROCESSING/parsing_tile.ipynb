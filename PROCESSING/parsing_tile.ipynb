{
 "cells": [
  {
   "cell_type": "markdown",
   "metadata": {},
   "source": [
    "# Parsing Sensortile.Box\n",
    "\n",
    "## Metadata\n",
    "\n",
    "tbd\n",
    "\n",
    "## Data Columns\n",
    "\n",
    "T [ms],  \n",
    "AccX [mg],  \n",
    "AccY [mg],  \n",
    "AccZ [mg],  \n",
    "GyroX [mdps],  \n",
    "GyroY [mdps],  \n",
    "GyroZ [mdps],  \n",
    "MagX [mgauss],  \n",
    "MagY [mgauss],  \n",
    "MagZ [mgauss],  \n",
    "P [mB],  \n",
    "T ['C],  \n",
    "H [%]"
   ]
  }
 ],
 "metadata": {
  "language_info": {
   "name": "python"
  }
 },
 "nbformat": 4,
 "nbformat_minor": 2
}
