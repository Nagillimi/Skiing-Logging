{
 "cells": [
  {
   "cell_type": "code",
   "execution_count": null,
   "metadata": {},
   "outputs": [],
   "source": [
    "import matplotlib.pyplot as plt\n",
    "from load import load_2023_12_30\n",
    "from tile import Tile\n",
    "from track import Track\n",
    "from signal_processing import maxIndex\n",
    "\n",
    "a50_2023_12_30, a50_all_2023_12_30, f6p_2023_12_30, tile_2023_12_30_runs = load_2023_12_30()"
   ]
  },
  {
   "cell_type": "markdown",
   "metadata": {},
   "source": [
    "## Plotting Euler Data with G-forces\n",
    "\n",
    "G-forces should register at twice the frequency due to similar angular accelerations felt at every turn, while rolling should occur +ve, then -ve between turns. Assuming this, we can clearly calculate the number of turns and determine if they were left or right."
   ]
  },
  {
   "cell_type": "code",
   "execution_count": null,
   "metadata": {},
   "outputs": [],
   "source": [
    "run1 = tile_2023_12_30_runs[0]\n",
    "run2 = tile_2023_12_30_runs[1]\n",
    "run1_euler6 = run1.imu6.euler\n",
    "run1_euler9 = run1.imu9.euler\n",
    "run2_euler6 = run2.imu6.euler\n",
    "run2_euler9 = run2.imu9.euler"
   ]
  },
  {
   "cell_type": "code",
   "execution_count": null,
   "metadata": {},
   "outputs": [],
   "source": [
    "plt.rc('lines', linewidth=1)\n",
    "fig, ax = plt.subplots(5, figsize=(15, 8))\n",
    "\n",
    "ax[0].plot(run1.time, run1_euler6[:, 0], label='6dof')\n",
    "ax[0].plot(run1.time, run1_euler9[:, 0], label='9dof')\n",
    "ax[0].set_title('Run 1 Roll', wrap=True)\n",
    "ax[0].legend()\n",
    "\n",
    "ax[1].plot(run1.time, run1_euler6[:, 1], label='6dof')\n",
    "ax[1].plot(run1.time, run1_euler9[:, 1], label='9dof')\n",
    "ax[1].set_title('Run 1 Pitch', wrap=True)\n",
    "ax[1].legend()\n",
    "\n",
    "ax[2].plot(run1.time, run1_euler6[:, 2], label='6dof')\n",
    "ax[2].plot(run1.time, run1_euler9[:, 2], label='9dof')\n",
    "ax[2].set_title('Run 1 Yaw', wrap=True)\n",
    "ax[2].legend()\n",
    "\n",
    "ax[3].plot(run1.time, run1.mG_lpf())\n",
    "ax[3].set_title('Run 1 Filtered mG-forces', wrap=True)\n",
    "\n",
    "ax[4].plot(run1.time, run1.mG)\n",
    "ax[4].set_title('Run 1 Unfiltered mG-forces', wrap=True)\n",
    "\n",
    "plt.tight_layout()\n",
    "plt.show()"
   ]
  },
  {
   "cell_type": "markdown",
   "metadata": {},
   "source": [
    "## Identifying the Still Points\n",
    "\n",
    "Maintain a causal design!"
   ]
  },
  {
   "cell_type": "code",
   "execution_count": null,
   "metadata": {},
   "outputs": [],
   "source": [
    "_, _, _, tile_2023_12_30 = load_2023_12_30(split_tile=False)\n",
    "tile_2023_12_30_euler6 = tile_2023_12_30.imu6.euler\n",
    "tile_2023_12_30_euler9 = tile_2023_12_30.imu9.euler"
   ]
  },
  {
   "cell_type": "code",
   "execution_count": null,
   "metadata": {},
   "outputs": [],
   "source": [
    "a50_lifts = [track for track in a50_all_2023_12_30 if track.track_type == \"Lift\"]"
   ]
  },
  {
   "cell_type": "markdown",
   "metadata": {},
   "source": [
    "### Reprenting Lift and Ski Zones"
   ]
  },
  {
   "cell_type": "code",
   "execution_count": null,
   "metadata": {},
   "outputs": [],
   "source": [
    "def addRunAndLiftZones(ax, runs, lifts):\n",
    "    [ax.axvspan(run.time[0], run.time[-1], color='green', alpha=0.25) for run in runs]\n",
    "    [ax.axvspan(lift.time[0], lift.time[-1], color='red', alpha=0.25) for lift in lifts]"
   ]
  },
  {
   "cell_type": "code",
   "execution_count": null,
   "metadata": {},
   "outputs": [],
   "source": [
    "plt.rc('lines', linewidth=1)\n",
    "fig, ax = plt.subplots(5, figsize=(15, 8))\n",
    "\n",
    "ax[0].plot(tile_2023_12_30.time, tile_2023_12_30_euler6[:, 0], label='6dof')\n",
    "ax[0].plot(tile_2023_12_30.time, tile_2023_12_30_euler9[:, 0], label='9dof')\n",
    "addRunAndLiftZones(ax[0], tile_2023_12_30_runs, a50_lifts)\n",
    "ax[0].set_title('All Tile Roll with Run & Lift Zones', wrap=True)\n",
    "ax[0].legend()\n",
    "\n",
    "ax[1].plot(tile_2023_12_30.time, tile_2023_12_30_euler6[:, 1], label='6dof')\n",
    "ax[1].plot(tile_2023_12_30.time, tile_2023_12_30_euler9[:, 1], label='9dof')\n",
    "addRunAndLiftZones(ax[1], tile_2023_12_30_runs, a50_lifts)\n",
    "ax[1].set_title('All Tile Pitch with Run & Lift Zones', wrap=True)\n",
    "ax[1].legend()\n",
    "\n",
    "ax[2].plot(tile_2023_12_30.time, tile_2023_12_30_euler6[:, 2], label='6dof')\n",
    "ax[2].plot(tile_2023_12_30.time, tile_2023_12_30_euler9[:, 2], label='9dof')\n",
    "addRunAndLiftZones(ax[2], tile_2023_12_30_runs, a50_lifts)\n",
    "ax[2].set_title('All Tile Yaw with Run & Lift Zones', wrap=True)\n",
    "ax[2].legend()\n",
    "\n",
    "ax[3].plot(tile_2023_12_30.time, tile_2023_12_30.mG_lpf())\n",
    "addRunAndLiftZones(ax[3], tile_2023_12_30_runs, a50_lifts)\n",
    "ax[3].set_title('All Tile Filtered mG-forces with Run & Lift Zones', wrap=True)\n",
    "\n",
    "ax[4].plot(tile_2023_12_30.time, tile_2023_12_30.mG)\n",
    "addRunAndLiftZones(ax[4], tile_2023_12_30_runs, a50_lifts)\n",
    "ax[4].set_title('All Tile Unfiltered mG-forces with Run & Lift Zones', wrap=True)\n",
    "\n",
    "plt.tight_layout()\n",
    "plt.show()"
   ]
  },
  {
   "cell_type": "markdown",
   "metadata": {},
   "source": [
    "### At the Point of Lift Liftoff\n",
    "\n",
    "Taking a closer look at the start of the lift zone, starting with the first lift:"
   ]
  },
  {
   "cell_type": "code",
   "execution_count": null,
   "metadata": {},
   "outputs": [],
   "source": [
    "start = tile_2023_12_30.time.index(a50_lifts[0].time[0])\n",
    "x1 = start - 2500 # sub time to window\n",
    "x2 = start + 2500 # add time to window\n",
    "print(x1, x2)"
   ]
  },
  {
   "cell_type": "code",
   "execution_count": null,
   "metadata": {},
   "outputs": [],
   "source": [
    "impact_idx = maxIndex(tile_2023_12_30.mG, [x1, x2])"
   ]
  },
  {
   "cell_type": "code",
   "execution_count": null,
   "metadata": {},
   "outputs": [],
   "source": [
    "def plotEulerAndGs(x1, x2):\n",
    "    plt.rc('lines', linewidth=1)\n",
    "    fig, ax = plt.subplots(6, figsize=(14, 9))\n",
    "\n",
    "    ax[0].plot(tile_2023_12_30.time[x1:x2], tile_2023_12_30.corrected_alt[x1:x2], label='tile')\n",
    "    ax[0].axvline(x=tile_2023_12_30.time[impact_idx], color='k')\n",
    "    ax[0].set_title('Moment of Lift 1 Liftoff Tile Altitude (Correced from A50)', wrap=True)\n",
    "    ax[0].legend()\n",
    "\n",
    "    ax[1].plot(tile_2023_12_30.time[x1:x2], tile_2023_12_30_euler6[x1:x2, 0], label='6dof')\n",
    "    ax[1].plot(tile_2023_12_30.time[x1:x2], tile_2023_12_30_euler9[x1:x2, 0], label='9dof')\n",
    "    ax[1].axvline(x=tile_2023_12_30.time[impact_idx], color='k')\n",
    "    ax[1].set_title('Moment of Lift 1 Liftoff Tile Roll', wrap=True)\n",
    "    ax[1].legend()\n",
    "\n",
    "    ax[2].plot(tile_2023_12_30.time[x1:x2], tile_2023_12_30_euler6[x1:x2, 1], label='6dof')\n",
    "    ax[2].plot(tile_2023_12_30.time[x1:x2], tile_2023_12_30_euler9[x1:x2, 1], label='9dof')\n",
    "    ax[2].axvline(x=tile_2023_12_30.time[impact_idx], color='k')\n",
    "    ax[2].set_title('Moment of Lift 1 Liftoff Tile Pitch', wrap=True)\n",
    "    ax[2].legend()\n",
    "\n",
    "    ax[3].plot(tile_2023_12_30.time[x1:x2], tile_2023_12_30_euler6[x1:x2, 2], label='6dof')\n",
    "    ax[3].plot(tile_2023_12_30.time[x1:x2], tile_2023_12_30_euler9[x1:x2, 2], label='9dof')\n",
    "    ax[3].axvline(x=tile_2023_12_30.time[impact_idx], color='k')\n",
    "    ax[3].set_title('Moment of Lift 1 Liftoff Tile Yaw', wrap=True)\n",
    "    ax[3].legend()\n",
    "\n",
    "    ax[4].plot(tile_2023_12_30.time[x1:x2], tile_2023_12_30.mG_lpf()[x1:x2])\n",
    "    ax[4].axvline(x=tile_2023_12_30.time[impact_idx], color='k')\n",
    "    ax[4].set_title('Moment of Lift 1 Liftoff Tile Filtered mG-forces', wrap=True)\n",
    "\n",
    "    ax[5].plot(tile_2023_12_30.time[x1:x2], tile_2023_12_30.mG[x1:x2])\n",
    "    ax[5].axvline(x=tile_2023_12_30.time[impact_idx], color='k')\n",
    "    ax[5].set_title('Moment of Lift 1 Liftoff Tile Unfiltered mG-forces', wrap=True)\n",
    "\n",
    "    plt.tight_layout()\n",
    "    plt.show()"
   ]
  },
  {
   "cell_type": "code",
   "execution_count": null,
   "metadata": {},
   "outputs": [],
   "source": [
    "plotEulerAndGs(x1, x2)"
   ]
  },
  {
   "cell_type": "markdown",
   "metadata": {},
   "source": [
    "#### Analysis\n",
    "\n",
    "- the first flat period is waiting in line for the gate to open, not always available\n",
    "- the second is standing waiting for the lift to hit the legs, seen by the impulse in the unfiltered mG-forces\n",
    "  - motion during this time may happen, only correct for times it doesn't since this will always happen"
   ]
  },
  {
   "cell_type": "markdown",
   "metadata": {},
   "source": [
    "### At the Point of Lift Landing\n",
    "\n",
    "Taking a closer look at the end of the lift zone, starting with the first lift:"
   ]
  },
  {
   "cell_type": "code",
   "execution_count": null,
   "metadata": {},
   "outputs": [],
   "source": [
    "stop = tile_2023_12_30.time.index(a50_lifts[0].time[-1])\n",
    "x1 = stop - 2500 # sub time to window\n",
    "x2 = stop + 2500 # add time to window\n",
    "print(x1, x2)\n",
    "impact_idx = maxIndex(tile_2023_12_30.mG, [x1, x2])\n",
    "plotEulerAndGs(x1, x2)"
   ]
  },
  {
   "cell_type": "markdown",
   "metadata": {},
   "source": [
    "#### Analysis\n",
    "\n",
    "- the main flat period is seen as the point where the chair is pushing you while your skis are flat on the platform\n",
    "- results in a pretty good steady state for all signals!"
   ]
  },
  {
   "cell_type": "markdown",
   "metadata": {},
   "source": [
    "#### Confirming this Occurs on the Next Chair Landing"
   ]
  },
  {
   "cell_type": "code",
   "execution_count": null,
   "metadata": {},
   "outputs": [],
   "source": [
    "stop = tile_2023_12_30.time.index(a50_lifts[1].time[-1])\n",
    "x1 = stop - 2500 # sub time to window\n",
    "x2 = stop + 2500 # add time to window\n",
    "print(x1, x2)\n",
    "impact_idx = maxIndex(tile_2023_12_30.mG, [x1, x2])\n",
    "plotEulerAndGs(x1, x2)"
   ]
  },
  {
   "cell_type": "markdown",
   "metadata": {},
   "source": [
    "## Identification Steps\n",
    "\n",
    "### v1\n",
    "\n",
    "0. must first be in lift state, identified by constant acc (& vel), and increasing altitude\n",
    "1. triggered by altitude & when it begins decreasing from its max\n",
    "2. search all signals in +t until a medium window has a low enough std dev\n",
    "3. confirm an impact in the unfiltered mG was observed, to isolate the cases where the chair stopped\n",
    "4. confirm altitude never increses, otherwise break\n",
    "5. capture signals during a small window of low std dev, stretching to the length of time SS is observed"
   ]
  },
  {
   "cell_type": "code",
   "execution_count": null,
   "metadata": {},
   "outputs": [],
   "source": [
    "from numpy import std\n",
    "# from signal_processing import std\n",
    "\n",
    "def testMotionForStillness(tile: Tile, r):\n",
    "    # alt_lpf_std_th = 3\n",
    "    # roll_std_th = 5\n",
    "    # pitch_std_th = 5\n",
    "    # yaw_std_th = 5\n",
    "    euler_std_th = 3\n",
    "    # mG_lpf_std_th = 25\n",
    "    mG_std_th = 50\n",
    "    return [\n",
    "        # std(tile.corrected_alt[r[0]:r[1]]) < alt_lpf_std_th,\n",
    "        # std(tile_euler9[r[0]:r[1], 0]) < roll_std_th,\n",
    "        # std(tile_euler9[r[0]:r[1], 1]) < pitch_std_th,\n",
    "        # std(tile_euler9[r[0]:r[1], 2]) < yaw_std_th,\n",
    "        std(tile.imu9.euler_norm[r[0]:r[1]]) < euler_std_th,\n",
    "        # std(tile.mG_lpf()[r[0]:r[1]]) < mG_lpf_std_th,\n",
    "        std(tile.mG[r[0]:r[1]]) < mG_std_th,\n",
    "    ]"
   ]
  },
  {
   "cell_type": "code",
   "execution_count": null,
   "metadata": {},
   "outputs": [],
   "source": [
    "def identifyStillRanges(tile: Tile, min_s=6, r=[0, -1], print_out=False):\n",
    "    \"\"\"Identifies ranges of still motion with sampling length `min_s` in seconds\n",
    "    and returns them as a list of lists representing their indices.\n",
    "    \"\"\"\n",
    "    wsamples = min_s * 100\n",
    "    search = (len(tile.time[r[0]:r[1]])) - wsamples\n",
    "    coarse_mult = wsamples\n",
    "    fine_mult = round(coarse_mult / 10)\n",
    "    still_ranges = []\n",
    "    prev_tail = r[0]\n",
    "    print('search:', search)\n",
    "    print('coarse_mult:', coarse_mult)\n",
    "    print('fine_mult:', fine_mult)\n",
    "\n",
    "    for i in range(search):\n",
    "        if print_out: print('i iter:\\t', i)\n",
    "        for j in range(search):\n",
    "            # coarse search every 10th idx\n",
    "            head = prev_tail + coarse_mult * j\n",
    "            tail = head + wsamples\n",
    "            \n",
    "            if tail >= search + r[0]:\n",
    "                if print_out: print('hit the end of the line. tail >= search:', tail, '>=', search + r[0])\n",
    "                return still_ranges\n",
    "            \n",
    "            trailing_tests = testMotionForStillness(tile, [head, tail])\n",
    "\n",
    "            if print_out: print('j iter:\\t', j)\n",
    "            if print_out: print('head = prev_tail + coarse_mult * j:\\t', head, '=', prev_tail, '+', coarse_mult * j)\n",
    "            if print_out: print('tail = head + wsamples:\\t', tail, '=', head, '+', wsamples)\n",
    "            if print_out: print('still_tests:\\t', trailing_tests)\n",
    "            \n",
    "            if sum(trailing_tests) == len(trailing_tests):\n",
    "                if print_out: print('\\tcoarse range found:\\t', head, tail)\n",
    "                refinedHead = None\n",
    "                refinedTail = None\n",
    "                for k in range(search - j):\n",
    "                    # fine search every idx\n",
    "                    fine_leading_head = head - fine_mult * (k + 1)\n",
    "                    fine_leading_tail = tail - fine_mult * (k + 1)\n",
    "                    fine_trailing_head = head + fine_mult * (k + 1)\n",
    "                    fine_trailing_tail = tail + fine_mult * (k + 1)\n",
    "\n",
    "                    if print_out: print('\\tk iter:\\t', k)\n",
    "                    if print_out: print('\\tfine_leading_head = head - fine_mult * k + 1:\\t', fine_leading_head, '=', head, '-', fine_mult, '*', (k + 1))\n",
    "                    if print_out: print('\\tfine_leading_tail = tail - fine_mult * k + 1:\\t', fine_leading_tail, '=', tail, '-', fine_mult, '*', (k + 1))\n",
    "                    if print_out: print('\\tfine_trailing_head = head + fine_mult * k + 1:\\t', fine_trailing_head, '=', head, '+', fine_mult, '*', (k + 1))\n",
    "                    if print_out: print('\\tfine_trailing_tail = tail + fine_mult * k + 1:\\t', fine_trailing_tail, '=', tail, '+', fine_mult, '*', (k + 1))\n",
    "\n",
    "                    if refinedHead is None:\n",
    "                        if fine_leading_head <= 0:\n",
    "                            refinedHead = 0\n",
    "                            print('\\t\\trefined head set:\\t', refinedHead)\n",
    "                        \n",
    "                        leading_tests = testMotionForStillness(tile, [fine_leading_head, fine_leading_tail])\n",
    "                        if print_out: print('\\tleading_tests:\\t', leading_tests)\n",
    "\n",
    "                        if sum(leading_tests) < len(leading_tests):\n",
    "                            refinedHead = fine_leading_head + fine_mult\n",
    "                            print('\\t\\trefined head set:\\t', refinedHead)\n",
    "\n",
    "                    if refinedTail is None:\n",
    "                        if fine_trailing_tail >= search:\n",
    "                            refinedTail = fine_trailing_tail\n",
    "                            print('\\t\\trefined tail set:\\t', refinedTail)\n",
    "\n",
    "                        trailing_tests = testMotionForStillness(tile, [fine_trailing_head, fine_trailing_tail])\n",
    "                        if print_out: print('\\ttrailing_tests:\\t', trailing_tests)\n",
    "\n",
    "                        if sum(trailing_tests) < len(trailing_tests):\n",
    "                            refinedTail = fine_trailing_tail - fine_mult\n",
    "                            if print_out: print('\\t\\trefined tail set:\\t', refinedTail)\n",
    "\n",
    "                    if refinedHead is not None and refinedTail is not None:\n",
    "                        if refinedHead <= prev_tail:\n",
    "                            if print_out: print('\\t\\tstitched to previous set:\\t', [still_ranges[-1][0], refinedTail])\n",
    "                            still_ranges[-1] = [still_ranges[-1][0], refinedTail]\n",
    "                        else:\n",
    "                            if print_out: print('\\t\\trefined still range set:\\t', [refinedHead, refinedTail])\n",
    "                            still_ranges.append([refinedHead, refinedTail])\n",
    "                        prev_tail = refinedTail\n",
    "                        break\n",
    "                break"
   ]
  },
  {
   "cell_type": "code",
   "execution_count": null,
   "metadata": {},
   "outputs": [],
   "source": [
    "r = [0, len(tile_2023_12_30.time)]\n",
    "# still_ranges = identifyStillRanges(tile_2023_12_30, r=r, print_out=True)"
   ]
  },
  {
   "cell_type": "code",
   "execution_count": null,
   "metadata": {},
   "outputs": [],
   "source": [
    "# print(len(still_ranges), \"still points:\", still_ranges)"
   ]
  },
  {
   "cell_type": "code",
   "execution_count": null,
   "metadata": {},
   "outputs": [],
   "source": [
    "def addStillZones(ax, t, ranges, r):\n",
    "    for range in ranges:\n",
    "        if range[0] < r[0] or range[1] > r[1]: \n",
    "            continue\n",
    "        ax.axvspan(t[range[0]], t[range[1]], color='green', alpha=0.25)"
   ]
  },
  {
   "cell_type": "code",
   "execution_count": null,
   "metadata": {},
   "outputs": [],
   "source": [
    "def plotTileWithStillZones(tile, still_ranges, r=r):\n",
    "    tile_euler6 = tile.imu6.euler\n",
    "    tile_euler9 = tile.imu9.euler\n",
    "    plt.rc('lines', linewidth=1)\n",
    "    fig, ax = plt.subplots(6, figsize=(15, 10))\n",
    "\n",
    "    ax[0].plot(tile.time[r[0]:r[1]], tile.corrected_alt[r[0]:r[1]])\n",
    "    addStillZones(ax[0], tile.time, still_ranges, r)\n",
    "    ax[0].set_title('All Tile Altitude with Still Zones', wrap=True)\n",
    "\n",
    "    ax[1].plot(tile.time[r[0]:r[1]], tile_euler6[r[0]:r[1], 0], label='6dof')\n",
    "    ax[1].plot(tile.time[r[0]:r[1]], tile_euler9[r[0]:r[1], 0], label='9dof')\n",
    "    addStillZones(ax[1], tile.time, still_ranges, r)\n",
    "    ax[1].set_title('All Tile Roll with Still Zones', wrap=True)\n",
    "    ax[1].legend()\n",
    "\n",
    "    ax[2].plot(tile.time[r[0]:r[1]], tile_euler6[r[0]:r[1], 1], label='6dof')\n",
    "    ax[2].plot(tile.time[r[0]:r[1]], tile_euler9[r[0]:r[1], 1], label='9dof')\n",
    "    addStillZones(ax[2], tile.time, still_ranges, r)\n",
    "    ax[2].set_title('All Tile Pitch with Still Zones', wrap=True)\n",
    "    ax[2].legend()\n",
    "\n",
    "    ax[3].plot(tile.time[r[0]:r[1]], tile_euler6[r[0]:r[1], 2], label='6dof')\n",
    "    ax[3].plot(tile.time[r[0]:r[1]], tile_euler9[r[0]:r[1], 2], label='9dof')\n",
    "    addStillZones(ax[3], tile.time, still_ranges, r)\n",
    "    ax[3].set_title('All Tile Yaw with Still Zones', wrap=True)\n",
    "    ax[3].legend()\n",
    "\n",
    "    ax[4].plot(tile.time[r[0]:r[1]], tile.mG_lpf()[r[0]:r[1]])\n",
    "    addStillZones(ax[4], tile.time, still_ranges, r)\n",
    "    ax[4].set_title('All Tile Filtered mG-forces with Still Zones', wrap=True)\n",
    "\n",
    "    ax[5].plot(tile.time[r[0]:r[1]], tile.mG[r[0]:r[1]])\n",
    "    addStillZones(ax[5], tile.time, still_ranges, r)\n",
    "    ax[5].set_title('All Tile Unfiltered mG-forces with Still Zones', wrap=True)\n",
    "\n",
    "    plt.tight_layout()\n",
    "    plt.show()"
   ]
  },
  {
   "cell_type": "code",
   "execution_count": null,
   "metadata": {},
   "outputs": [],
   "source": [
    "# plotTileWithStillZones(tile_2023_12_30)\n",
    "# print('Max alt occurs at:', tile_2023_12_30.corrected_alt.index(max(tile_2023_12_30.corrected_alt[90000:100000])))\n",
    "# plotTileWithStillZones(tile_2023_12_30, still_ranges, [90000, 100000])\n",
    "# print('Max alt occurs at:', tile_2023_12_30.corrected_alt.index(max(tile_2023_12_30.corrected_alt[150000:160000])))\n",
    "# plotTileWithStillZones(tile_2023_12_30, still_ranges, [150000, 175000])"
   ]
  },
  {
   "cell_type": "markdown",
   "metadata": {},
   "source": [
    "#### Check for Peak Altitude before `still_range`\n",
    "\n",
    "- search back from `head` until `prev_tail` for an impulse(s) in mG and max in alt\n",
    "  - confirm the alt at the current `head` is lower\n",
    "- in a much larger range, confirm the the previous max alt seen before current `head` and `prev_tail` has been the max for a while\n",
    "  - the \"moving\" max, account for lift stops"
   ]
  },
  {
   "cell_type": "code",
   "execution_count": null,
   "metadata": {},
   "outputs": [],
   "source": [
    "from stat_tests import StatTests as ST\n",
    "\n",
    "def testContainsLocalPeak(x, r, print_out=False, header=\"\"):\n",
    "    \"\"\"tests the input `x` signal for a peak inside the range `r`, excluding the endponits.\n",
    "    \n",
    "    if so, returns `True` else `False`\n",
    "    \"\"\"\n",
    "    window, isValid = ST.assertWindow(x, r)\n",
    "    if not isValid:\n",
    "        return False\n",
    "\n",
    "    max_window = max(window)\n",
    "    head = x[r[0]]\n",
    "    tail = x[r[1]]\n",
    "    if print_out: print('\\t', head, ' < ', max_window, ' < ', tail, '?', sep='')\n",
    "    if head < max_window and max_window > tail:\n",
    "        return True\n",
    "    return False\n",
    "\n",
    "\n",
    "def testLargeImpulse(x, r, th=None, print_out=False, header=\"\"):\n",
    "    \"\"\"tests the input `x` signal whether a large impulse occured during the range `r`.\n",
    "    \n",
    "    `th` will override the threshold of the impulse magnitude test, defaults to 3 * stddev\n",
    "    \"\"\"\n",
    "    window, isValid = ST.assertWindow(x, r)\n",
    "    if not isValid:\n",
    "        return False\n",
    "    \n",
    "    baseline = 3 * std(window) if th is None else th\n",
    "    impulse = max(window)\n",
    "    if print_out: print('\\t', impulse, ' > ', baseline, '?', sep='')\n",
    "    if impulse > baseline:\n",
    "        return True\n",
    "    return False"
   ]
  },
  {
   "cell_type": "code",
   "execution_count": null,
   "metadata": {},
   "outputs": [],
   "source": [
    "# # create IC\n",
    "# prev_tail = 0\n",
    "\n",
    "# for still_range in still_ranges:\n",
    "#     testing_range = [prev_tail, still_range[0]]\n",
    "#     print(testing_range)\n",
    "\n",
    "#     if testContainsLocalPeak(tile_2023_12_30.corrected_alt, testing_range, print_out=True):\n",
    "#         print('\\tcontains alt peak?', True)\n",
    "#     else:\n",
    "#         print('\\tcontains alt peak?', False)\n",
    "\n",
    "#     if testLargeImpulse(tile_2023_12_30.corrected_alt, testing_range, th=2+tile_2023_12_30.corrected_alt[testing_range[1]], print_out=True):\n",
    "#         print('\\tcontains alt impulse?', True)\n",
    "#     else:\n",
    "#         print('\\tcontains alt impulse?', False)\n",
    "\n",
    "#     if testLargeImpulse(tile_2023_12_30.mG, testing_range, print_out=True):\n",
    "#         print('\\tcontains mG impulse?', True)\n",
    "#     else:\n",
    "#         print('\\tcontains mG impulse?', False)\n",
    "\n",
    "#     # update the tail for the next search\n",
    "#     prev_tail = still_range[1]"
   ]
  },
  {
   "cell_type": "markdown",
   "metadata": {},
   "source": [
    "### V2\n",
    "\n",
    "0. run is triggered by parent device, store idx\n",
    "1. search left from this point for the first max in alt\n",
    "2. find the first still point after this max and before the lift start\n",
    "3. use the avg inside this still point as the platform zone\n"
   ]
  },
  {
   "cell_type": "code",
   "execution_count": null,
   "metadata": {},
   "outputs": [],
   "source": [
    "# run1_tile_start_idx = tile_2023_12_30.time.index(a50_2023_12_30[0].time[0])\n",
    "# print(run1_tile_start_idx)\n",
    "# run2_tile_start_idx = tile_2023_12_30.time.index(a50_2023_12_30[1].time[0])\n",
    "# print(run2_tile_start_idx)"
   ]
  },
  {
   "cell_type": "code",
   "execution_count": null,
   "metadata": {},
   "outputs": [],
   "source": [
    "def findFirstHistoricMax(x, end, th=2):\n",
    "    x1 = 0\n",
    "    for i in range(len(x[0:end])):\n",
    "        if x[end - i] - x[end - (i + 1)] > th:\n",
    "            x1 = end - (i + 1)\n",
    "            break\n",
    "    return maxIndex(x, [x1, end])"
   ]
  },
  {
   "cell_type": "code",
   "execution_count": null,
   "metadata": {},
   "outputs": [],
   "source": [
    "# liftoff1_tile_idx = findFirstHistoricMax(tile_2023_12_30.corrected_alt, run1_tile_start_idx)\n",
    "# print(liftoff1_tile_idx)\n",
    "# liftoff2_tile_idx = findFirstHistoricMax(tile_2023_12_30.corrected_alt, run2_tile_start_idx)\n",
    "# print(liftoff2_tile_idx)"
   ]
  },
  {
   "cell_type": "code",
   "execution_count": null,
   "metadata": {},
   "outputs": [],
   "source": [
    "# platform1_range = identifyStillRanges(tile_2023_12_30, r=[liftoff1_tile_idx, run1_tile_start_idx], min_s=1, print_out=True)\n",
    "# print('\\n\\nNumber of still ranges found:', len(platform1_range))"
   ]
  },
  {
   "cell_type": "markdown",
   "metadata": {},
   "source": [
    "The `run1_tile_start_idx` isn't reliable and requires feedback from parent, non ideal..."
   ]
  },
  {
   "cell_type": "markdown",
   "metadata": {},
   "source": [
    "### V3\n",
    "\n",
    "0. Poll altitude at the start of a lift track\n",
    "1. record when it starts decreasing past a certain threshold\n",
    "2. wait for the first still point after this alt peak to define the platform zone\n",
    "3. use the avg inside the platform zone"
   ]
  },
  {
   "cell_type": "code",
   "execution_count": null,
   "metadata": {},
   "outputs": [],
   "source": [
    "def getLiftPeakIdx(x, window_s=3*60, th=5, within_s=60):\n",
    "    \"\"\"Causal!\n",
    "    \n",
    "    Returns the index on input signal `x` where a max altitude is reached based on a\n",
    "    drop detection within a certain period `within_s` seconds and threshold `th`.\n",
    "    \n",
    "    Confirms that this is a max over the last period `window_s` seconds.\"\"\"\n",
    "    fs = 100\n",
    "    for i in range(len(x)):\n",
    "        if i < window_s * fs:\n",
    "            continue\n",
    "        if x[i - (within_s * fs)] - x[i] > th and x[i - (within_s * fs)] == max(x[i - (window_s * fs):i]):\n",
    "            return i - (within_s * fs)"
   ]
  },
  {
   "cell_type": "code",
   "execution_count": null,
   "metadata": {},
   "outputs": [],
   "source": [
    "max_lift1 = getLiftPeakIdx(tile_2023_12_30.corrected_alt)\n",
    "max_lift2 = 100000 + getLiftPeakIdx(tile_2023_12_30.corrected_alt[100000:]) # represented as real-time"
   ]
  },
  {
   "cell_type": "code",
   "execution_count": null,
   "metadata": {},
   "outputs": [],
   "source": [
    "# wait for still point\n",
    "# TODO write a more causal based algorithm to identify a rolling window, right now make an arbitrary window of + 10000 idx (10s)\n",
    "platform1_ranges = identifyStillRanges(tile_2023_12_30, r=[max_lift1, max_lift1+10000], min_s=5, print_out=True)\n",
    "platform2_ranges = identifyStillRanges(tile_2023_12_30, r=[max_lift2, max_lift2+10000], min_s=5, print_out=True)\n",
    "\n",
    "platform1_lengths = [p[1] - p[0] for p in platform1_ranges]\n",
    "still_idx_platform1 = maxIndex(platform1_lengths)\n",
    "platform2_lengths = [p[1] - p[0] for p in platform2_ranges]\n",
    "still_idx_platform2 = maxIndex(platform2_lengths)\n",
    "\n",
    "print(still_idx_platform1)\n",
    "print(still_idx_platform2)\n",
    "\n",
    "platform1_range = platform1_ranges[still_idx_platform1]\n",
    "platform2_range = platform2_ranges[still_idx_platform2]"
   ]
  },
  {
   "cell_type": "markdown",
   "metadata": {},
   "source": [
    "## Calculating the Rotation Matrix Based on the Still Range Averages\n",
    "\n"
   ]
  },
  {
   "cell_type": "code",
   "execution_count": null,
   "metadata": {},
   "outputs": [],
   "source": [
    "plotTileWithStillZones(tile_2023_12_30, still_ranges=[platform1_range, platform2_range])\n",
    "plotTileWithStillZones(tile_2023_12_30, r=[90000, 100000], still_ranges=[platform1_range])\n",
    "plotTileWithStillZones(tile_2023_12_30, r=[150000, 175000], still_ranges=[platform2_range])"
   ]
  },
  {
   "cell_type": "code",
   "execution_count": null,
   "metadata": {},
   "outputs": [],
   "source": [
    "from signal_processing import mean\n",
    "\n",
    "print('From static boot angles of [0, 0, 0] for NWU:\\n')\n",
    "\n",
    "r1_avg_roll = mean(tile_2023_12_30.imu9.computeEuler(cts_yaw=False)[platform1_range[0]:platform1_range[1], 0].tolist())\n",
    "r1_avg_pitch = mean(tile_2023_12_30.imu9.computeEuler(cts_yaw=False)[platform1_range[0]:platform1_range[1], 1].tolist())\n",
    "r1_avg_yaw = mean(tile_2023_12_30.imu9.computeEuler(cts_yaw=False)[platform1_range[0]:platform1_range[1], 2].tolist())\n",
    "print('Clamped rotation offsets from top of lift 1:')\n",
    "print('\\t', r1_avg_roll, r1_avg_pitch, r1_avg_yaw)\n",
    "\n",
    "r2_avg_roll = mean(tile_2023_12_30.imu9.computeEuler(cts_yaw=False)[platform2_range[0]:platform2_range[1], 0].tolist())\n",
    "r2_avg_pitch = mean(tile_2023_12_30.imu9.computeEuler(cts_yaw=False)[platform2_range[0]:platform2_range[1], 1].tolist())\n",
    "r2_avg_yaw = mean(tile_2023_12_30.imu9.computeEuler(cts_yaw=False)[platform2_range[0]:platform2_range[1], 2].tolist())\n",
    "print('Clamped rotation offsets from top of lift 2:')\n",
    "print('\\t', r2_avg_roll, r2_avg_pitch, r2_avg_yaw)"
   ]
  },
  {
   "cell_type": "code",
   "execution_count": null,
   "metadata": {},
   "outputs": [],
   "source": [
    "import numpy as np\n",
    "import math\n",
    "\n",
    "# https://www.zacobria.com/universal-robots-knowledge-base-tech-support-forum-hints-tips-cb2-cb3/index.php/python-code-example-of-converting-rpyeuler-angles-to-rotation-vectorangle-axis-for-universal-robots/\n",
    "def eulerToRotMatrix(roll, pitch, yaw):\n",
    "    \"\"\"zyx cardan sequence\"\"\"\n",
    "    yawMatrix = np.matrix([\n",
    "    [math.cos(yaw), -math.sin(yaw), 0],\n",
    "    [math.sin(yaw), math.cos(yaw), 0],\n",
    "    [0, 0, 1]\n",
    "    ])\n",
    "\n",
    "    pitchMatrix = np.matrix([\n",
    "    [math.cos(pitch), 0, math.sin(pitch)],\n",
    "    [0, 1, 0],\n",
    "    [-math.sin(pitch), 0, math.cos(pitch)]\n",
    "    ])\n",
    "\n",
    "    rollMatrix = np.matrix([\n",
    "    [1, 0, 0],\n",
    "    [0, math.cos(roll), -math.sin(roll)],\n",
    "    [0, math.sin(roll), math.cos(roll)]\n",
    "    ])\n",
    "\n",
    "    return yawMatrix * pitchMatrix * rollMatrix\n",
    "\n",
    "    # for robotics and position:\n",
    "\n",
    "    # theta = math.acos(((R[0, 0] + R[1, 1] + R[2, 2]) - 1) / 2)\n",
    "    # multi = 1 / (2 * math.sin(theta))\n",
    "\n",
    "    # rx = multi * (R[2, 1] - R[1, 2]) * theta\n",
    "    # ry = multi * (R[0, 2] - R[2, 0]) * theta\n",
    "    # rz = multi * (R[1, 0] - R[0, 1]) * theta\n",
    "\n",
    "    # return rx, ry, rz"
   ]
  },
  {
   "cell_type": "code",
   "execution_count": null,
   "metadata": {},
   "outputs": [],
   "source": [
    "R_SB_1 = eulerToRotMatrix(r1_avg_roll, r1_avg_pitch, r1_avg_yaw)\n",
    "R_SB_2 = eulerToRotMatrix(r2_avg_roll, r2_avg_pitch, r2_avg_yaw)\n",
    "\n",
    "print('R_SB_1:', R_SB_1)\n",
    "print('\\nR_SB_2:', R_SB_2)"
   ]
  },
  {
   "cell_type": "markdown",
   "metadata": {},
   "source": [
    "### Use Quaternions for Rotations...\n",
    "\n",
    "Prefer an average quaternion, using a direct method that accounts for double crossovers:"
   ]
  },
  {
   "cell_type": "code",
   "execution_count": null,
   "metadata": {},
   "outputs": [],
   "source": [
    "# def avgQuat(quats, weights=None):\n",
    "#     \"\"\"Assumes equal weighting between all the quaternions, otherwise override `weights` list.\"\"\"\n",
    "#     ws = np.ones(len(quats)) if weights is None else weights\n",
    "#     qavg = np.array([0., 0., 0., 0.])\n",
    "#     quats_arr = [np.array([q.x, q.y, q.z, q.w]) for q in quats]\n",
    "#     for i, quat in enumerate(quats_arr):\n",
    "#         # ensure each quat is normalized\n",
    "#         quat = quat / np.linalg.norm(quat)\n",
    "\n",
    "#         # flip, account for double cross over\n",
    "#         if i > 0 and quat.dot(quats_arr[0]) < 0.:\n",
    "#             print('double cross over!')\n",
    "#             ws[i] -= 1\n",
    "\n",
    "#         qavg = np.add(qavg, quat * ws[i])\n",
    "#     return qavg / np.linalg.norm(qavg)\n",
    "\n",
    "def avgQuat(quats, weights=None):\n",
    "    \"\"\"Performs the calculation for the average quaternion, based on the range `r` provided.\n",
    "    \n",
    "    Assumes equal weighting between all the quaternions, otherwise override `weights` list.\n",
    "\n",
    "    Returns\n",
    "    -------\n",
    "    Average orientation quaternion [w, x, y, z] over range `r`.\n",
    "    \"\"\"\n",
    "    ws = np.ones(len(quats)) if weights is None else weights\n",
    "    qavg = np.array([0., 0., 0., 0.])\n",
    "    for i, quat in enumerate(quats):\n",
    "        # ensure each quat is normalized\n",
    "        quat = quat / np.linalg.norm(quat)\n",
    "\n",
    "        # flip, account for double cross over\n",
    "        if i > 0 and quat.dot(quats[0]) < 0.:\n",
    "            print('double cross over!')\n",
    "            ws[i] -= 1\n",
    "\n",
    "        qavg = np.add(qavg, quat * ws[i])\n",
    "    qavg /= np.linalg.norm(qavg)\n",
    "    print(qavg)\n",
    "    return qavg / np.linalg.norm(qavg)"
   ]
  },
  {
   "cell_type": "code",
   "execution_count": null,
   "metadata": {},
   "outputs": [],
   "source": [
    "import numpy.matlib as npm\n",
    "\n",
    "# https://github.com/christophhagen/averaging-quaternions/blob/8e75707891d2ad2f1bdecc5dc7b9bdb81fa7935f/averageQuaternions.py#L66\n",
    "def weightedAverageQuaternions(quats, weights=None):\n",
    "    Q = quats # np.array([np.array([q.w, q.x, q.y, q.z]) for q in quats])\n",
    "    w = np.ones(len(quats)) if weights is None else weights\n",
    "\n",
    "    # Number of quaternions to average\n",
    "    M = Q.shape[0]\n",
    "    A = npm.zeros(shape=(4,4))\n",
    "    weightSum = 0\n",
    "\n",
    "    for i in range(0,M):\n",
    "        q = Q[i,:]\n",
    "        A = w[i] * np.outer(q,q) + A\n",
    "        weightSum += w[i]\n",
    "\n",
    "    # scale\n",
    "    A = (1.0/weightSum) * A\n",
    "\n",
    "    # compute eigenvalues and -vectors\n",
    "    eigenValues, eigenVectors = np.linalg.eig(A)\n",
    "\n",
    "    # Sort by largest eigenvalue\n",
    "    eigenVectors = eigenVectors[:,eigenValues.argsort()[::-1]]\n",
    "\n",
    "    # return the real part of the largest eigenvector (has only real part)\n",
    "    return np.real(eigenVectors[:,0].A1)"
   ]
  },
  {
   "cell_type": "code",
   "execution_count": null,
   "metadata": {},
   "outputs": [],
   "source": [
    "from signal_processing import rmse\n",
    "\n",
    "print('Simple Average:')\n",
    "qSB_1 = avgQuat(tile_2023_12_30.imu9.quat[platform1_range[0]:platform1_range[1], :])\n",
    "print('\\tqSB_1 (x, y, z, w):', qSB_1)\n",
    "qSB_2 = avgQuat(tile_2023_12_30.imu9.quat[platform2_range[0]:platform2_range[1], :]) * -1\n",
    "print('\\tqSB_2 (x, y, z, w):', qSB_2)\n",
    "print('\\tRMSE between runs:', rmse(qSB_1, qSB_2))\n",
    "\n",
    "print('\\nAccurate Average:')\n",
    "qSB_1 = weightedAverageQuaternions(tile_2023_12_30.imu9.quat[platform1_range[0]:platform1_range[1], :])\n",
    "print('\\tqSB_1 (w, x, y, z):', qSB_1)\n",
    "qSB_2 = weightedAverageQuaternions(tile_2023_12_30.imu9.quat[platform2_range[0]:platform2_range[1], :]) * -1\n",
    "print('\\tqSB_2 (w, x, y, z):', qSB_2)\n",
    "print('\\tRMSE between runs:', rmse(qSB_1, qSB_2))"
   ]
  },
  {
   "cell_type": "markdown",
   "metadata": {},
   "source": [
    "`q` = `-q` represent the same rotation! It's addressed inside the function itself element-wise, but comparing outputs between runs may be the opposite signs."
   ]
  },
  {
   "cell_type": "markdown",
   "metadata": {},
   "source": [
    "## Results\n",
    "\n",
    "Using the quaternion rotation, specifically on the split run data:"
   ]
  },
  {
   "cell_type": "code",
   "execution_count": null,
   "metadata": {},
   "outputs": [],
   "source": [
    "run1.setQsbFromRange(platform1_range)\n",
    "run2.setQsbFromRange(platform2_range)\n",
    "\n",
    "# re-compute the euler data after the tare quaternions are set\n",
    "run1_euler6_b = run1.euler6_b\n",
    "run1_euler9_b = run1.euler9_b\n",
    "run2_euler6_b = run2.euler6_b\n",
    "run2_euler9_b = run2.euler9_b"
   ]
  },
  {
   "cell_type": "code",
   "execution_count": null,
   "metadata": {},
   "outputs": [],
   "source": [
    "plt.rc('lines', linewidth=1)\n",
    "fig, ax = plt.subplots(3, figsize=(15, 8))\n",
    "\n",
    "ax[0].plot(run1.time, run1_euler6_b[:, 0], label='6dof_b')\n",
    "ax[0].plot(run1.time, run1_euler9_b[:, 0], label='9dof_b')\n",
    "ax[0].plot(run1.time, run1_euler6[:, 0], label='6dof')\n",
    "ax[0].plot(run1.time, run1_euler9[:, 0], label='9dof')\n",
    "ax[0].set_title('Run 1 Roll', wrap=True)\n",
    "ax[0].legend()\n",
    "\n",
    "ax[1].plot(run1.time, run1_euler6_b[:, 1], label='6dof_b')\n",
    "ax[1].plot(run1.time, run1_euler9_b[:, 1], label='9dof_b')\n",
    "ax[1].plot(run1.time, run1_euler6[:, 1], label='6dof')\n",
    "ax[1].plot(run1.time, run1_euler9[:, 1], label='9dof')\n",
    "ax[1].set_title('Run 1 Pitch', wrap=True)\n",
    "ax[1].legend()\n",
    "\n",
    "ax[2].plot(run1.time, run1_euler6_b[:, 2], label='6dof_b')\n",
    "ax[2].plot(run1.time, run1_euler9_b[:, 2], label='9dof_b')\n",
    "ax[2].plot(run1.time, run1_euler6[:, 2], label='6dof')\n",
    "ax[2].plot(run1.time, run1_euler9[:, 2], label='9dof')\n",
    "ax[2].set_title('Run 1 Yaw', wrap=True)\n",
    "ax[2].legend()\n",
    "\n",
    "plt.tight_layout()\n",
    "plt.show()"
   ]
  }
 ],
 "metadata": {
  "kernelspec": {
   "display_name": ".venv",
   "language": "python",
   "name": "python3"
  },
  "language_info": {
   "codemirror_mode": {
    "name": "ipython",
    "version": 3
   },
   "file_extension": ".py",
   "mimetype": "text/x-python",
   "name": "python",
   "nbconvert_exporter": "python",
   "pygments_lexer": "ipython3",
   "version": "3.12.1"
  }
 },
 "nbformat": 4,
 "nbformat_minor": 2
}
