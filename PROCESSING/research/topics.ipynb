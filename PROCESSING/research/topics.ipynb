{
 "cells": [
  {
   "cell_type": "markdown",
   "metadata": {},
   "source": [
    "# Research Topics\n",
    "\n",
    "## Slope Units, Steepness\n",
    "\n",
    "- $grade = \\frac{\\Delta \\text{elevation}}{\\Delta \\text{horizontal distance}}$\n",
    "\n",
    "\n",
    "- $20\\degree$ from horizontal is moderate steepness\n",
    "- \n",
    "\n",
    "## Ski Mechanics\n",
    "\n"
   ]
  }
 ],
 "metadata": {
  "kernelspec": {
   "display_name": ".venv",
   "language": "python",
   "name": "python3"
  },
  "language_info": {
   "name": "python",
   "version": "3.12.1"
  }
 },
 "nbformat": 4,
 "nbformat_minor": 2
}
