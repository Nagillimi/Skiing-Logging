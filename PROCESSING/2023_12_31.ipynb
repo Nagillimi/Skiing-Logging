{
 "cells": [
  {
   "cell_type": "markdown",
   "metadata": {},
   "source": [
    "# December 31, 2023\n",
    "\n",
    "## Notes\n",
    " \n",
    "- 35 runs\n",
    "- a bomb run, clocking 107kmh on f6p\n",
    "- fast conditions\n",
    "- mainly stuck around blue runs, some black\n",
    "- with group of 4\n",
    "- not too busy\n",
    "- negative 7 to 10C\n"
   ]
  }
 ],
 "metadata": {
  "language_info": {
   "name": "python"
  }
 },
 "nbformat": 4,
 "nbformat_minor": 2
}
