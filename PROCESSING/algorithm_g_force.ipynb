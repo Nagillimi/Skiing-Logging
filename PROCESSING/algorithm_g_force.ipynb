{
 "cells": [
  {
   "cell_type": "markdown",
   "metadata": {},
   "source": [
    "# Determining Max G Force during run\n",
    "\n",
    "- filter accel data\n",
    "- length of vector\n",
    "- plot alongside track velocity from a50\n",
    "\n",
    "Using Dec 30, 2023 data since only 2 runs registered (easy):"
   ]
  },
  {
   "cell_type": "code",
   "execution_count": null,
   "metadata": {},
   "outputs": [],
   "source": []
  }
 ],
 "metadata": {
  "language_info": {
   "name": "python"
  }
 },
 "nbformat": 4,
 "nbformat_minor": 2
}
