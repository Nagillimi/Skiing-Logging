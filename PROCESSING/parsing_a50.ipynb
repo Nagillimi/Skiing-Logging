{
 "cells": [
  {
   "cell_type": "markdown",
   "metadata": {},
   "source": [
    "# Parsing SkiApp PRO data from Samsung A50\n",
    "\n",
    "## Metadata\n",
    "\n",
    "SkiApp PRO 2.3.9 - Available in Google PlayStore\n",
    "\n",
    "## Track types\n",
    "\n",
    "Each track will follow:\n",
    "\n",
    "- *Skiing Track*, always\n",
    "- *\"Hold\"*, *\"Walk\"*, *\"Lift\"*, *\"Downhill\"*, track type\n",
    "- *@ [date] [time of day]*, in short date and long time format\n",
    "- *Duration=x'y''*, x minutes y seconds\n",
    "- *Length=zm*, z overall 3d track length\n",
    "\n",
    "### Examples\n",
    "\n",
    "1. Skiing Track \"Hold\" @ Dec. 31, 2023, 11:29:23 a.m., Duration=1'11'', Length=28m\n",
    "2. Skiing Track \"Walk\" @ Dec. 31, 2023, 11:30:34 a.m., Duration=1'35'', Length=124m\n",
    "3. Skiing Track \"Lift\" @ Dec. 31, 2023, 11:32:09 a.m., Duration=5'22'', Length=734m\n",
    "4. Skiing Track \"Downhill\" @ Dec. 31, 2023, 11:37:31 a.m., Duration=2'09'', Length=935m\n",
    "\n",
    "## Data Columns\n",
    "\n",
    "Time [Sec]  \n",
    "Distance [m]  \n",
    "Velocity [kmh]  \n",
    "Course [°]          <--- this one is intriguing but not that accurate since the phone was not rigidly mounted to my body  \n",
    "Altitude [m]  \n",
    "Latitude [°]  \n",
    "Longitude [°]  \n",
    "Accuracy [m]"
   ]
  }
 ],
 "metadata": {
  "language_info": {
   "name": "python"
  }
 },
 "nbformat": 4,
 "nbformat_minor": 2
}
