{
 "cells": [
  {
   "cell_type": "markdown",
   "metadata": {},
   "source": [
    "# Machine Learning for Jump Identification\n",
    "\n",
    "Since the current implementation uses equal weighting for all jump tests, apply a machine learning model to train these weights towards better jump predictions.\n",
    "\n",
    "The current method will be used with a coarse lowG threshold to trigger as many jumps as possible towards data labelling. Once labeled, the dataset will be trained on all parameters."
   ]
  },
  {
   "cell_type": "code",
   "execution_count": 1,
   "metadata": {},
   "outputs": [],
   "source": [
    "import matplotlib.pyplot as plt\n",
    "from load import load_2023_12_30, load_2024_01_01\n",
    "from plotting import plotTileRuns, plotAllJumpAnalyses\n",
    "from jump import JUMP_THRESHOLD_MG\n",
    "\n",
    "# raise the low threshold to get more data\n",
    "JUMP_THRESHOLD_MG = 600"
   ]
  },
  {
   "cell_type": "code",
   "execution_count": 2,
   "metadata": {},
   "outputs": [
    {
     "name": "stdout",
     "output_type": "stream",
     "text": [
      "800\n"
     ]
    }
   ],
   "source": [
    "print(JUMP_THRESHOLD_MG)"
   ]
  },
  {
   "cell_type": "code",
   "execution_count": 3,
   "metadata": {},
   "outputs": [],
   "source": [
    "a50_2023_12_30, a50_all_2023_12_30, f6p_2023_12_30, tile_2023_12_30_runs = load_2023_12_30(print_out=False)\n",
    "a50_2024_01_01, a50_all_2024_01_01, f6p_2024_01_01, tile_2024_01_01_runs = load_2024_01_01(print_out=False)"
   ]
  }
 ],
 "metadata": {
  "kernelspec": {
   "display_name": ".venv",
   "language": "python",
   "name": "python3"
  },
  "language_info": {
   "codemirror_mode": {
    "name": "ipython",
    "version": 3
   },
   "file_extension": ".py",
   "mimetype": "text/x-python",
   "name": "python",
   "nbconvert_exporter": "python",
   "pygments_lexer": "ipython3",
   "version": "3.12.1"
  }
 },
 "nbformat": 4,
 "nbformat_minor": 2
}
