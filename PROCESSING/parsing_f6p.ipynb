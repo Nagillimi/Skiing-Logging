{
 "cells": [
  {
   "cell_type": "markdown",
   "metadata": {},
   "source": [
    "# Parsing Garmin Fenix 6 Pro\n",
    "\n",
    "## Metadata\n",
    "\n",
    "tbd\n",
    "\n",
    "## Data Columns\n",
    "\n",
    "\"Runs\",  \n",
    "\"Time\",  \n",
    "\"Distance\",  \n",
    "\"Total Descent\",  \n",
    "\"Max Speed\",  \n",
    "\"Avg Speed\",  \n",
    "\"Avg Moving Speed\",  \n",
    "\"Calories\",  \n",
    "\"Avg HR\",  \n",
    "\"Max HR\",  \n",
    "\"Cumulative Time\",  \n",
    "\"Moving Time\",  \n",
    "\"Avg Temperature\""
   ]
  }
 ],
 "metadata": {
  "language_info": {
   "name": "python"
  }
 },
 "nbformat": 4,
 "nbformat_minor": 2
}
