{
 "cells": [
  {
   "cell_type": "markdown",
   "metadata": {},
   "source": [
    "# December 27, 2022\n",
    "\n",
    "## Notes\n",
    " \n",
    "- felt unwell\n",
    "- lazy technique, bad form\n",
    "- busy day on the hill, lots of stopping\n",
    "- lift stops occasionally\n",
    "- snow conditions good\n"
   ]
  }
 ],
 "metadata": {
  "language_info": {
   "name": "python"
  }
 },
 "nbformat": 4,
 "nbformat_minor": 2
}
