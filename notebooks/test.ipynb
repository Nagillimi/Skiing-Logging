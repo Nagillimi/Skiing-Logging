{
 "cells": [
  {
   "cell_type": "code",
   "execution_count": 1,
   "metadata": {},
   "outputs": [
    {
     "name": "stdout",
     "output_type": "stream",
     "text": [
      "A50 Downhill Tracks\n",
      "\t Track type Downhill | Date 2023-12-30 | Time 12:06:29 | Duration [s] 115 | Length [m] 977\n",
      "\t Track type Downhill | Date 2023-12-30 | Time 12:18:53 | Duration [s] 114 | Length [m] 1032\n",
      "\t Track type Downhill | Date 2023-12-30 | Time 12:21:47 | Duration [s] 40 | Length [m] 111\n",
      "A50 All Tracks\n",
      "\t Track type Hold | Date 2023-12-30 | Time 11:52:15 | Duration [s] 110 | Length [m] 36\n",
      "\t Track type Walk | Date 2023-12-30 | Time 11:54:05 | Duration [s] 103 | Length [m] 56\n",
      "\t Track type Hold | Date 2023-12-30 | Time 11:55:48 | Duration [s] 74 | Length [m] 22\n",
      "\t Track type Walk | Date 2023-12-30 | Time 11:57:02 | Duration [s] 82 | Length [m] 53\n",
      "\t Track type Lift | Date 2023-12-30 | Time 11:58:24 | Duration [s] 485 | Length [m] 862\n",
      "\t Track type Downhill | Date 2023-12-30 | Time 12:06:29 | Duration [s] 115 | Length [m] 977\n",
      "\t Track type Walk | Date 2023-12-30 | Time 12:08:24 | Duration [s] 92 | Length [m] 75\n",
      "\t Track type Lift | Date 2023-12-30 | Time 12:09:56 | Duration [s] 410 | Length [m] 814\n",
      "\t Track type Hold | Date 2023-12-30 | Time 12:16:46 | Duration [s] 127 | Length [m] 17\n",
      "\t Track type Downhill | Date 2023-12-30 | Time 12:18:53 | Duration [s] 114 | Length [m] 1032\n",
      "\t Track type Hold | Date 2023-12-30 | Time 12:20:47 | Duration [s] 60 | Length [m] 15\n",
      "\t Track type Downhill | Date 2023-12-30 | Time 12:21:47 | Duration [s] 40 | Length [m] 111\n",
      "\t Track type Walk | Date 2023-12-30 | Time 12:22:27 | Duration [s] 70 | Length [m] 65\n",
      "F6P Tracks\n",
      "\t Track type Downhill | Date 2023-12-30 | Time 12:06:15 | Duration [s] 106 | Length [m] 955.88\n",
      "\t Track type Downhill | Date 2023-12-30 | Time 12:16:45 | Duration [s] 126 | Length [m] 1023.52\n",
      "\t Track type Downhill | Date 2023-12-30 | Time 12:30:55 | Duration [s] 134 | Length [m] 1083.94\n",
      "\t Track type Downhill | Date 2023-12-30 | Time 12:40:23 | Duration [s] 105 | Length [m] 1008.92\n",
      "\t Track type Downhill | Date 2023-12-30 | Time 12:53:28 | Duration [s] 106 | Length [m] 1018.07\n",
      "\t Track type Downhill | Date 2023-12-30 | Time 13:05:24 | Duration [s] 111 | Length [m] 1033.85\n",
      "\t Track type Downhill | Date 2023-12-30 | Time 13:14:27 | Duration [s] 108 | Length [m] 1017.04\n",
      "\t Track type Downhill | Date 2023-12-30 | Time 13:23:32 | Duration [s] 121 | Length [m] 992.7\n",
      "\t Track type Downhill | Date 2023-12-30 | Time 13:35:22 | Duration [s] 117 | Length [m] 1027.84\n",
      "\t Track type Downhill | Date 2023-12-30 | Time 13:45:46 | Duration [s] 109 | Length [m] 1026.8\n",
      "\t Track type Downhill | Date 2023-12-30 | Time 13:55:49 | Duration [s] 106 | Length [m] 1035.32\n",
      "\t Track type Downhill | Date 2023-12-30 | Time 14:05:34 | Duration [s] 114 | Length [m] 1043.99\n",
      "\t Track type Downhill | Date 2023-12-30 | Time 14:14:43 | Duration [s] 115 | Length [m] 1023.95\n",
      "\t Track type Downhill | Date 2023-12-30 | Time 14:23:51 | Duration [s] 124 | Length [m] 1044.96\n",
      "\t Track type Downhill | Date 2023-12-30 | Time 14:32:54 | Duration [s] 103 | Length [m] 1015.87\n",
      "\t Track type Downhill | Date 2023-12-30 | Time 14:41:49 | Duration [s] 116 | Length [m] 1026.54\n",
      "\t Track type Downhill | Date 2023-12-30 | Time 14:51:06 | Duration [s] 122 | Length [m] 1087.56\n",
      "\t Track type Downhill | Date 2023-12-30 | Time 15:13:56 | Duration [s] 91 | Length [m] 847.66\n",
      "\t Track type Downhill | Date 2023-12-30 | Time 15:22:30 | Duration [s] 88 | Length [m] 855.89\n",
      "\t Track type Downhill | Date 2023-12-30 | Time 15:39:19 | Duration [s] 207 | Length [m] 1003.7\n",
      "\t Track type Downhill | Date 2023-12-30 | Time 15:54:25 | Duration [s] 84 | Length [m] 841.87\n",
      "\t Track type Downhill | Date 2023-12-30 | Time 16:04:38 | Duration [s] 94 | Length [m] 815.66\n",
      "Tile Full Recording\n",
      "\t Duration [s] 1975\n",
      "Synchronized Tile Parameters\n",
      "\tTimestamp offset: 8000\n",
      "\tAltitude offset: 132.0\n",
      "Tile Split into Downhill Tracks\n",
      "trimming IMU: <imu.IMU object at 0x00000250BC639580> to range: [93400, 104900]\n",
      "trimming IMU: <imu.IMU object at 0x00000250BDEF1BE0> to range: [93400, 104900]\n"
     ]
    },
    {
     "ename": "AttributeError",
     "evalue": "'TileTrack' object has no attribute 'mG_lpf'",
     "output_type": "error",
     "traceback": [
      "\u001b[1;31m---------------------------------------------------------------------------\u001b[0m",
      "\u001b[1;31mAttributeError\u001b[0m                            Traceback (most recent call last)",
      "Cell \u001b[1;32mIn[1], line 4\u001b[0m\n\u001b[0;32m      1\u001b[0m \u001b[38;5;28;01mimport\u001b[39;00m \u001b[38;5;21;01mmatplotlib\u001b[39;00m\u001b[38;5;21;01m.\u001b[39;00m\u001b[38;5;21;01mpyplot\u001b[39;00m \u001b[38;5;28;01mas\u001b[39;00m \u001b[38;5;21;01mplt\u001b[39;00m\n\u001b[0;32m      2\u001b[0m \u001b[38;5;28;01mfrom\u001b[39;00m \u001b[38;5;21;01mload\u001b[39;00m \u001b[38;5;28;01mimport\u001b[39;00m load_2023_12_30\n\u001b[1;32m----> 4\u001b[0m a50_2023_12_30, a50_all_2023_12_30, f6p_2023_12_30, tile_2023_12_30 \u001b[38;5;241m=\u001b[39m \u001b[43mload_2023_12_30\u001b[49m\u001b[43m(\u001b[49m\u001b[43m)\u001b[49m\n",
      "File \u001b[1;32me:\\PROJECTS\\Skiing-Logging\\PROCESSING\\load.py:111\u001b[0m, in \u001b[0;36mload_2023_12_30\u001b[1;34m(use_alt_lpf, split_tile, print_out)\u001b[0m\n\u001b[0;32m     97\u001b[0m tile \u001b[38;5;241m=\u001b[39m syncTile(\n\u001b[0;32m     98\u001b[0m     tile\u001b[38;5;241m=\u001b[39mtile,\n\u001b[0;32m     99\u001b[0m     truth\u001b[38;5;241m=\u001b[39ma50,\n\u001b[1;32m   (...)\u001b[0m\n\u001b[0;32m    107\u001b[0m     max_alt_search\u001b[38;5;241m=\u001b[39m\u001b[38;5;241m140\u001b[39m,\n\u001b[0;32m    108\u001b[0m )\n\u001b[0;32m    110\u001b[0m \u001b[38;5;28;01mif\u001b[39;00m split_tile:\n\u001b[1;32m--> 111\u001b[0m     \u001b[43massignDownhillTileTracks\u001b[49m\u001b[43m(\u001b[49m\u001b[43mtile\u001b[49m\u001b[43m,\u001b[49m\u001b[43m \u001b[49m\u001b[43ma50_dh\u001b[49m\u001b[43m,\u001b[49m\u001b[43m \u001b[49m\u001b[43mprint_out\u001b[49m\u001b[38;5;241;43m=\u001b[39;49m\u001b[43mprint_out\u001b[49m\u001b[43m,\u001b[49m\u001b[43m \u001b[49m\u001b[43mheader\u001b[49m\u001b[38;5;241;43m=\u001b[39;49m\u001b[38;5;124;43m\"\u001b[39;49m\u001b[38;5;124;43mTile Split into Downhill Tracks\u001b[39;49m\u001b[38;5;124;43m\"\u001b[39;49m\u001b[43m)\u001b[49m\n\u001b[0;32m    112\u001b[0m \u001b[38;5;28;01mreturn\u001b[39;00m a50_dh, a50, f6p, tile\n",
      "File \u001b[1;32me:\\PROJECTS\\Skiing-Logging\\PROCESSING\\decorators.py:20\u001b[0m, in \u001b[0;36mprintTracks.<locals>.wrapper\u001b[1;34m(*args, **kwargs)\u001b[0m\n\u001b[0;32m     18\u001b[0m \u001b[38;5;28;01mif\u001b[39;00m kwargs\u001b[38;5;241m.\u001b[39mget(\u001b[38;5;124m\"\u001b[39m\u001b[38;5;124mprint_out\u001b[39m\u001b[38;5;124m\"\u001b[39m) \u001b[38;5;129;01mis\u001b[39;00m \u001b[38;5;28;01mTrue\u001b[39;00m:\n\u001b[0;32m     19\u001b[0m     \u001b[38;5;28mprint\u001b[39m(kwargs\u001b[38;5;241m.\u001b[39mget(\u001b[38;5;124m\"\u001b[39m\u001b[38;5;124mheader\u001b[39m\u001b[38;5;124m\"\u001b[39m))\n\u001b[1;32m---> 20\u001b[0m tracks \u001b[38;5;241m=\u001b[39m \u001b[43mfunc\u001b[49m\u001b[43m(\u001b[49m\u001b[38;5;241;43m*\u001b[39;49m\u001b[43margs\u001b[49m\u001b[43m,\u001b[49m\u001b[43m \u001b[49m\u001b[38;5;241;43m*\u001b[39;49m\u001b[38;5;241;43m*\u001b[39;49m\u001b[43mkwargs\u001b[49m\u001b[43m)\u001b[49m\n\u001b[0;32m     21\u001b[0m \u001b[38;5;28;01mif\u001b[39;00m kwargs\u001b[38;5;241m.\u001b[39mget(\u001b[38;5;124m\"\u001b[39m\u001b[38;5;124mprint_out\u001b[39m\u001b[38;5;124m\"\u001b[39m) \u001b[38;5;129;01mis\u001b[39;00m \u001b[38;5;28;01mFalse\u001b[39;00m:\n\u001b[0;32m     22\u001b[0m     \u001b[38;5;28;01mreturn\u001b[39;00m tracks\n",
      "File \u001b[1;32me:\\PROJECTS\\Skiing-Logging\\PROCESSING\\split.py:53\u001b[0m, in \u001b[0;36massignDownhillTileTracks\u001b[1;34m(tile_sync, truth, second_truth, print_out, start_offset, stop_offset, header)\u001b[0m\n\u001b[0;32m     50\u001b[0m tile_sync\u001b[38;5;241m.\u001b[39mfile_train \u001b[38;5;241m=\u001b[39m createJumpDataFile(\u001b[38;5;124mf\u001b[39m\u001b[38;5;124m'\u001b[39m\u001b[38;5;124mlogs/tile-\u001b[39m\u001b[38;5;132;01m{\u001b[39;00mtruth[\u001b[38;5;241m0\u001b[39m]\u001b[38;5;241m.\u001b[39mdate\u001b[38;5;132;01m}\u001b[39;00m\u001b[38;5;124m-jumps-\u001b[39m\u001b[38;5;132;01m{\u001b[39;00mJUMP_THRESHOLD_MG\u001b[38;5;132;01m}\u001b[39;00m\u001b[38;5;124mmG.csv\u001b[39m\u001b[38;5;124m'\u001b[39m)\n\u001b[0;32m     52\u001b[0m \u001b[38;5;66;03m# split by these timestamps into [Tile]\u001b[39;00m\n\u001b[1;32m---> 53\u001b[0m \u001b[43mtile_sync\u001b[49m\u001b[38;5;241;43m.\u001b[39;49m\u001b[43massignTracks\u001b[49m\u001b[43m(\u001b[49m\u001b[43mranges\u001b[49m\u001b[43m)\u001b[49m\n\u001b[0;32m     55\u001b[0m tile_sync\u001b[38;5;241m.\u001b[39mfile_train\u001b[38;5;241m.\u001b[39mclose()\n",
      "File \u001b[1;32me:\\PROJECTS\\Skiing-Logging\\PROCESSING\\tile.py:110\u001b[0m, in \u001b[0;36mTile.assignTracks\u001b[1;34m(self, ranges)\u001b[0m\n\u001b[0;32m    108\u001b[0m \u001b[38;5;28;01mdef\u001b[39;00m \u001b[38;5;21massignTracks\u001b[39m(\u001b[38;5;28mself\u001b[39m, ranges):\n\u001b[0;32m    109\u001b[0m     \u001b[38;5;28mself\u001b[39m\u001b[38;5;241m.\u001b[39m__tracks \u001b[38;5;241m=\u001b[39m [\n\u001b[1;32m--> 110\u001b[0m         \u001b[43mTileTrack\u001b[49m\u001b[43m(\u001b[49m\n\u001b[0;32m    111\u001b[0m \u001b[43m            \u001b[49m\u001b[43mtrack_type\u001b[49m\u001b[38;5;241;43m=\u001b[39;49m\u001b[38;5;124;43m'\u001b[39;49m\u001b[38;5;124;43mDownhill\u001b[39;49m\u001b[38;5;124;43m'\u001b[39;49m\u001b[43m,\u001b[49m\n\u001b[0;32m    112\u001b[0m \u001b[43m            \u001b[49m\u001b[43mparent_tile\u001b[49m\u001b[38;5;241;43m=\u001b[39;49m\u001b[38;5;28;43mself\u001b[39;49m\u001b[43m,\u001b[49m\n\u001b[0;32m    113\u001b[0m \u001b[43m            \u001b[49m\u001b[38;5;28;43mrange\u001b[39;49m\u001b[38;5;241;43m=\u001b[39;49m\u001b[43mr\u001b[49m\u001b[43m,\u001b[49m\n\u001b[0;32m    114\u001b[0m \u001b[43m            \u001b[49m\u001b[43mfile_train\u001b[49m\u001b[38;5;241;43m=\u001b[39;49m\u001b[38;5;28;43mself\u001b[39;49m\u001b[38;5;241;43m.\u001b[39;49m\u001b[43mfile_train\u001b[49m\u001b[43m,\u001b[49m\n\u001b[0;32m    115\u001b[0m \u001b[43m            \u001b[49m\u001b[43midentifyKinematics\u001b[49m\u001b[38;5;241;43m=\u001b[39;49m\u001b[38;5;28;43;01mTrue\u001b[39;49;00m\u001b[43m,\u001b[49m\n\u001b[0;32m    116\u001b[0m \u001b[43m        \u001b[49m\u001b[43m)\u001b[49m \u001b[38;5;28;01mfor\u001b[39;00m r \u001b[38;5;129;01min\u001b[39;00m ranges\n\u001b[0;32m    117\u001b[0m     ]\n",
      "File \u001b[1;32me:\\PROJECTS\\Skiing-Logging\\PROCESSING\\tile_track.py:45\u001b[0m, in \u001b[0;36mTileTrack.__init__\u001b[1;34m(self, parent_tile, range, file_train, track_type, identifyKinematics)\u001b[0m\n\u001b[0;32m     43\u001b[0m \u001b[38;5;28;01mif\u001b[39;00m \u001b[38;5;129;01mnot\u001b[39;00m identifyKinematics:\n\u001b[0;32m     44\u001b[0m     \u001b[38;5;28;01mreturn\u001b[39;00m\n\u001b[1;32m---> 45\u001b[0m \u001b[38;5;28;43mself\u001b[39;49m\u001b[38;5;241;43m.\u001b[39;49m\u001b[43midentifyJumps\u001b[49m\u001b[43m(\u001b[49m\u001b[43m)\u001b[49m\n\u001b[0;32m     46\u001b[0m \u001b[38;5;28mself\u001b[39m\u001b[38;5;241m.\u001b[39midentifyTurns()\n",
      "File \u001b[1;32me:\\PROJECTS\\Skiing-Logging\\PROCESSING\\tile_track.py:99\u001b[0m, in \u001b[0;36mTileTrack.identifyJumps\u001b[1;34m(self, override_th)\u001b[0m\n\u001b[0;32m     93\u001b[0m \u001b[38;5;28;01mdef\u001b[39;00m \u001b[38;5;21midentifyJumps\u001b[39m(\u001b[38;5;28mself\u001b[39m, override_th\u001b[38;5;241m=\u001b[39m\u001b[38;5;28;01mNone\u001b[39;00m):\n\u001b[0;32m     94\u001b[0m \u001b[38;5;250m    \u001b[39m\u001b[38;5;124;03m\"\"\"Identify all points of low G-force and run the jump id pipeline on each.\u001b[39;00m\n\u001b[0;32m     95\u001b[0m \u001b[38;5;124;03m    \u001b[39;00m\n\u001b[0;32m     96\u001b[0m \u001b[38;5;124;03m    Confidence values will be associated with each `Jump` instance.\u001b[39;00m\n\u001b[0;32m     97\u001b[0m \u001b[38;5;124;03m    \"\"\"\u001b[39;00m\n\u001b[0;32m     98\u001b[0m     lowG_els \u001b[38;5;241m=\u001b[39m identifyRangesBelowTH(\n\u001b[1;32m---> 99\u001b[0m         \u001b[38;5;28;43mself\u001b[39;49m\u001b[38;5;241;43m.\u001b[39;49m\u001b[43mmG_lpf\u001b[49m(),\n\u001b[0;32m    100\u001b[0m         JUMP_THRESHOLD_MG \u001b[38;5;28;01mif\u001b[39;00m override_th \u001b[38;5;129;01mis\u001b[39;00m \u001b[38;5;28;01mNone\u001b[39;00m \u001b[38;5;28;01melse\u001b[39;00m override_th\n\u001b[0;32m    101\u001b[0m     )\n\u001b[0;32m    102\u001b[0m     \u001b[38;5;28mself\u001b[39m\u001b[38;5;241m.\u001b[39mjumps \u001b[38;5;241m=\u001b[39m [Jump(el, \u001b[38;5;28mself\u001b[39m\u001b[38;5;241m.\u001b[39mmG_lpf(), \u001b[38;5;28mself\u001b[39m\u001b[38;5;241m.\u001b[39mmG, \u001b[38;5;28mself\u001b[39m\u001b[38;5;241m.\u001b[39mgyro) \u001b[38;5;28;01mfor\u001b[39;00m el \u001b[38;5;129;01min\u001b[39;00m lowG_els]\n\u001b[0;32m    103\u001b[0m     \u001b[38;5;28mself\u001b[39m\u001b[38;5;241m.\u001b[39mlogJumpData(override_th)\n",
      "\u001b[1;31mAttributeError\u001b[0m: 'TileTrack' object has no attribute 'mG_lpf'"
     ]
    }
   ],
   "source": [
    "import matplotlib.pyplot as plt\n",
    "from load import load_2023_12_30\n",
    "\n",
    "a50_2023_12_30, a50_all_2023_12_30, f6p_2023_12_30, tile_2023_12_30 = load_2023_12_30()"
   ]
  }
 ],
 "metadata": {
  "kernelspec": {
   "display_name": ".venv",
   "language": "python",
   "name": "python3"
  },
  "language_info": {
   "codemirror_mode": {
    "name": "ipython",
    "version": 3
   },
   "file_extension": ".py",
   "mimetype": "text/x-python",
   "name": "python",
   "nbconvert_exporter": "python",
   "pygments_lexer": "ipython3",
   "version": "3.12.1"
  }
 },
 "nbformat": 4,
 "nbformat_minor": 2
}
