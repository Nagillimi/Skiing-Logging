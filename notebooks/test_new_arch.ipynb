{
 "cells": [
  {
   "cell_type": "code",
   "execution_count": 1,
   "metadata": {},
   "outputs": [],
   "source": [
    "# import sys, os\n",
    "# sys.path.insert(1, os.path.join(sys.path[0], '../src'))"
   ]
  },
  {
   "cell_type": "code",
   "execution_count": 2,
   "metadata": {},
   "outputs": [],
   "source": [
    "from sessions import Session_2023_12_30"
   ]
  },
  {
   "cell_type": "code",
   "execution_count": 3,
   "metadata": {},
   "outputs": [
    {
     "name": "stdout",
     "output_type": "stream",
     "text": [
      "\t Track type Variable | Duration [s] 1975.46\n",
      "\t Track type Hold | Date 2023-12-30 | Time 11:52:15 | Duration [s] 110 | Length [m] 36\n",
      "\t Track type Walk | Date 2023-12-30 | Time 11:54:05 | Duration [s] 103 | Length [m] 56\n",
      "\t Track type Hold | Date 2023-12-30 | Time 11:55:48 | Duration [s] 74 | Length [m] 22\n",
      "\t Track type Walk | Date 2023-12-30 | Time 11:57:02 | Duration [s] 82 | Length [m] 53\n",
      "\t Track type Lift | Date 2023-12-30 | Time 11:58:24 | Duration [s] 485 | Length [m] 862\n",
      "\t Track type Downhill | Date 2023-12-30 | Time 12:06:29 | Duration [s] 115 | Length [m] 977\n",
      "\t Track type Walk | Date 2023-12-30 | Time 12:08:24 | Duration [s] 92 | Length [m] 75\n",
      "\t Track type Lift | Date 2023-12-30 | Time 12:09:56 | Duration [s] 410 | Length [m] 814\n",
      "\t Track type Hold | Date 2023-12-30 | Time 12:16:46 | Duration [s] 127 | Length [m] 17\n",
      "\t Track type Downhill | Date 2023-12-30 | Time 12:18:53 | Duration [s] 114 | Length [m] 1032\n",
      "\t Track type Hold | Date 2023-12-30 | Time 12:20:47 | Duration [s] 60 | Length [m] 15\n",
      "\t Track type Downhill | Date 2023-12-30 | Time 12:21:47 | Duration [s] 40 | Length [m] 111\n",
      "\t Track type Walk | Date 2023-12-30 | Time 12:22:27 | Duration [s] 70 | Length [m] 65\n",
      "\t Track type Downhill | Date 2023-12-30 | Time 12:06:15 | Duration [s] 106 | Length [m] 955.88\n",
      "\t Track type Downhill | Date 2023-12-30 | Time 12:16:45 | Duration [s] 126 | Length [m] 1023.52\n",
      "\t Track type Downhill | Date 2023-12-30 | Time 12:30:55 | Duration [s] 134 | Length [m] 1083.94\n",
      "\t Track type Downhill | Date 2023-12-30 | Time 12:40:23 | Duration [s] 105 | Length [m] 1008.92\n",
      "\t Track type Downhill | Date 2023-12-30 | Time 12:53:28 | Duration [s] 106 | Length [m] 1018.07\n",
      "\t Track type Downhill | Date 2023-12-30 | Time 13:05:24 | Duration [s] 111 | Length [m] 1033.85\n",
      "\t Track type Downhill | Date 2023-12-30 | Time 13:14:27 | Duration [s] 108 | Length [m] 1017.04\n",
      "\t Track type Downhill | Date 2023-12-30 | Time 13:23:32 | Duration [s] 121 | Length [m] 992.7\n",
      "\t Track type Downhill | Date 2023-12-30 | Time 13:35:22 | Duration [s] 117 | Length [m] 1027.84\n",
      "\t Track type Downhill | Date 2023-12-30 | Time 13:45:46 | Duration [s] 109 | Length [m] 1026.8\n",
      "\t Track type Downhill | Date 2023-12-30 | Time 13:55:49 | Duration [s] 106 | Length [m] 1035.32\n",
      "\t Track type Downhill | Date 2023-12-30 | Time 14:05:34 | Duration [s] 114 | Length [m] 1043.99\n",
      "\t Track type Downhill | Date 2023-12-30 | Time 14:14:43 | Duration [s] 115 | Length [m] 1023.95\n",
      "\t Track type Downhill | Date 2023-12-30 | Time 14:23:51 | Duration [s] 124 | Length [m] 1044.96\n",
      "\t Track type Downhill | Date 2023-12-30 | Time 14:32:54 | Duration [s] 103 | Length [m] 1015.87\n",
      "\t Track type Downhill | Date 2023-12-30 | Time 14:41:49 | Duration [s] 116 | Length [m] 1026.54\n",
      "\t Track type Downhill | Date 2023-12-30 | Time 14:51:06 | Duration [s] 122 | Length [m] 1087.56\n",
      "\t Track type Downhill | Date 2023-12-30 | Time 15:13:56 | Duration [s] 91 | Length [m] 847.66\n",
      "\t Track type Downhill | Date 2023-12-30 | Time 15:22:30 | Duration [s] 88 | Length [m] 855.89\n",
      "\t Track type Downhill | Date 2023-12-30 | Time 15:39:19 | Duration [s] 207 | Length [m] 1003.7\n",
      "\t Track type Downhill | Date 2023-12-30 | Time 15:54:25 | Duration [s] 84 | Length [m] 841.87\n",
      "\t Track type Downhill | Date 2023-12-30 | Time 16:04:38 | Duration [s] 94 | Length [m] 815.66\n",
      "raw.accel.shape: (197547, 3)\n",
      "raw.accel[0, 0] 73\n",
      "raw.accel[0, 1] -915\n",
      "raw.accel[0, 2] -407\n",
      "raw.gyro[0, 0] 4130\n",
      "raw.gyro[0, 1] 5950\n",
      "raw.gyro[0, 2] 210\n",
      "raw.mag[0, 0] 343\n",
      "raw.mag[0, 1] -70\n",
      "raw.mag[0, 2] -103\n",
      "raw.pres[0] 973.13\n",
      "raw.temp[0] 8.25\n",
      "raw.hum[0] 51.3\n",
      "sos.shape: (1, 6)\n",
      "x.shape[0]: 197547\n",
      "sos.shape: (1, 6)\n",
      "x.shape[0]: 197547\n"
     ]
    },
    {
     "ename": "AttributeError",
     "evalue": "'numpy.ndarray' object has no attribute 'index'",
     "output_type": "error",
     "traceback": [
      "\u001b[1;31m---------------------------------------------------------------------------\u001b[0m",
      "\u001b[1;31mAttributeError\u001b[0m                            Traceback (most recent call last)",
      "Cell \u001b[1;32mIn[3], line 1\u001b[0m\n\u001b[1;32m----> 1\u001b[0m session \u001b[38;5;241m=\u001b[39m \u001b[43mSession_2023_12_30\u001b[49m\u001b[43m(\u001b[49m\u001b[43m)\u001b[49m\n",
      "File \u001b[1;32me:\\PROJECTS\\Skiing-Logging\\src\\sessions.py:38\u001b[0m, in \u001b[0;36mSession_2023_12_30.__init__\u001b[1;34m(self, offsets, print_out)\u001b[0m\n\u001b[0;32m     34\u001b[0m \u001b[38;5;28;01mdef\u001b[39;00m \u001b[38;5;21m__init__\u001b[39m(\u001b[38;5;28mself\u001b[39m,\n\u001b[0;32m     35\u001b[0m         offsets\u001b[38;5;241m=\u001b[39m\u001b[38;5;28;01mNone\u001b[39;00m,\n\u001b[0;32m     36\u001b[0m         print_out\u001b[38;5;241m=\u001b[39m\u001b[38;5;28;01mFalse\u001b[39;00m\n\u001b[0;32m     37\u001b[0m ) \u001b[38;5;241m-\u001b[39m\u001b[38;5;241m>\u001b[39m \u001b[38;5;28;01mNone\u001b[39;00m:\n\u001b[1;32m---> 38\u001b[0m     \u001b[38;5;28;43msuper\u001b[39;49m\u001b[43m(\u001b[49m\u001b[43m)\u001b[49m\u001b[38;5;241;43m.\u001b[39;49m\u001b[38;5;21;43m__init__\u001b[39;49m\u001b[43m(\u001b[49m\n\u001b[0;32m     39\u001b[0m \u001b[43m        \u001b[49m\u001b[43mtile_file\u001b[49m\u001b[38;5;241;43m=\u001b[39;49m\u001b[38;5;124;43m\"\u001b[39;49m\u001b[38;5;124;43m../DATA/2023_12_30/Mt Olympia/Tile/SENS000.CSV\u001b[39;49m\u001b[38;5;124;43m\"\u001b[39;49m\u001b[43m,\u001b[49m\n\u001b[0;32m     40\u001b[0m \u001b[43m        \u001b[49m\u001b[43ma50_file\u001b[49m\u001b[38;5;241;43m=\u001b[39;49m\u001b[38;5;124;43m\"\u001b[39;49m\u001b[38;5;124;43m../DATA/2023_12_30/Mt Olympia/A50/Mount Olympia PATCHED.csv\u001b[39;49m\u001b[38;5;124;43m\"\u001b[39;49m\u001b[43m,\u001b[49m\n\u001b[0;32m     41\u001b[0m \u001b[43m        \u001b[49m\u001b[43mf6p_file\u001b[49m\u001b[38;5;241;43m=\u001b[39;49m\u001b[38;5;124;43m\"\u001b[39;49m\u001b[38;5;124;43m../DATA/2023_12_30/Mt Olympia/F6P/13293488821_ACTIVITY.csv\u001b[39;49m\u001b[38;5;124;43m\"\u001b[39;49m\u001b[43m,\u001b[49m\n\u001b[0;32m     42\u001b[0m \u001b[43m        \u001b[49m\u001b[43moffsets\u001b[49m\u001b[38;5;241;43m=\u001b[39;49m\u001b[43moffsets_2023_12_30\u001b[49m\u001b[43m(\u001b[49m\u001b[43m)\u001b[49m\u001b[43m \u001b[49m\u001b[38;5;28;43;01mif\u001b[39;49;00m\u001b[43m \u001b[49m\u001b[43moffsets\u001b[49m\u001b[43m \u001b[49m\u001b[38;5;129;43;01mis\u001b[39;49;00m\u001b[43m \u001b[49m\u001b[38;5;28;43;01mNone\u001b[39;49;00m\u001b[43m \u001b[49m\u001b[38;5;28;43;01melse\u001b[39;49;00m\u001b[43m \u001b[49m\u001b[43moffsets\u001b[49m\u001b[43m,\u001b[49m\n\u001b[0;32m     43\u001b[0m \u001b[43m        \u001b[49m\u001b[43mprint_out\u001b[49m\u001b[38;5;241;43m=\u001b[39;49m\u001b[43mprint_out\u001b[49m\u001b[43m,\u001b[49m\n\u001b[0;32m     44\u001b[0m \u001b[43m    \u001b[49m\u001b[43m)\u001b[49m\n",
      "File \u001b[1;32me:\\PROJECTS\\Skiing-Logging\\src\\session.py:23\u001b[0m, in \u001b[0;36mSession.__init__\u001b[1;34m(self, tile_file, a50_file, f6p_file, offsets, print_out)\u001b[0m\n\u001b[0;32m     21\u001b[0m     \u001b[38;5;28mself\u001b[39m\u001b[38;5;241m.\u001b[39mtile\u001b[38;5;241m.\u001b[39mapplyOffsets(offsets[\u001b[38;5;241m0\u001b[39m], offsets[\u001b[38;5;241m1\u001b[39m])\n\u001b[0;32m     22\u001b[0m     \u001b[38;5;28mself\u001b[39m\u001b[38;5;241m.\u001b[39mtile\u001b[38;5;241m.\u001b[39mapplyTimestamp(\u001b[38;5;28mself\u001b[39m\u001b[38;5;241m.\u001b[39ma50[\u001b[38;5;241m0\u001b[39m]\u001b[38;5;241m.\u001b[39mtime[\u001b[38;5;241m0\u001b[39m])\n\u001b[1;32m---> 23\u001b[0m \u001b[38;5;28;43mself\u001b[39;49m\u001b[38;5;241;43m.\u001b[39;49m\u001b[43mtile\u001b[49m\u001b[38;5;241;43m.\u001b[39;49m\u001b[43mcomputeJumps\u001b[49m\u001b[43m(\u001b[49m\u001b[43m)\u001b[49m\n\u001b[0;32m     24\u001b[0m \u001b[38;5;28mself\u001b[39m\u001b[38;5;241m.\u001b[39mtile\u001b[38;5;241m.\u001b[39mcomputeStaticRegistrations()\n\u001b[0;32m     25\u001b[0m \u001b[38;5;28mself\u001b[39m\u001b[38;5;241m.\u001b[39mtile\u001b[38;5;241m.\u001b[39mcomputeTurns()\n",
      "File \u001b[1;32me:\\PROJECTS\\Skiing-Logging\\src\\tile.py:155\u001b[0m, in \u001b[0;36mTile.computeJumps\u001b[1;34m(self, override_th)\u001b[0m\n\u001b[0;32m    150\u001b[0m \u001b[38;5;28;01mdef\u001b[39;00m \u001b[38;5;21mcomputeJumps\u001b[39m(\u001b[38;5;28mself\u001b[39m, override_th\u001b[38;5;241m=\u001b[39m\u001b[38;5;28;01mNone\u001b[39;00m):\n\u001b[0;32m    151\u001b[0m \u001b[38;5;250m    \u001b[39m\u001b[38;5;124;03m\"\"\"Identify all points of low G-force and run the jump id pipeline on each.\u001b[39;00m\n\u001b[0;32m    152\u001b[0m \u001b[38;5;124;03m    \u001b[39;00m\n\u001b[0;32m    153\u001b[0m \u001b[38;5;124;03m    Confidence values will be associated with each `Jump` instance.\u001b[39;00m\n\u001b[0;32m    154\u001b[0m \u001b[38;5;124;03m    \"\"\"\u001b[39;00m\n\u001b[1;32m--> 155\u001b[0m     lowG_els \u001b[38;5;241m=\u001b[39m \u001b[43midentifyRangesBelowTH\u001b[49m\u001b[43m(\u001b[49m\n\u001b[0;32m    156\u001b[0m \u001b[43m        \u001b[49m\u001b[38;5;28;43mself\u001b[39;49m\u001b[38;5;241;43m.\u001b[39;49m\u001b[43mmG_lpf\u001b[49m\u001b[43m,\u001b[49m\n\u001b[0;32m    157\u001b[0m \u001b[43m        \u001b[49m\u001b[43mJUMP_THRESHOLD_MG\u001b[49m\u001b[43m \u001b[49m\u001b[38;5;28;43;01mif\u001b[39;49;00m\u001b[43m \u001b[49m\u001b[43moverride_th\u001b[49m\u001b[43m \u001b[49m\u001b[38;5;129;43;01mis\u001b[39;49;00m\u001b[43m \u001b[49m\u001b[38;5;28;43;01mNone\u001b[39;49;00m\u001b[43m \u001b[49m\u001b[38;5;28;43;01melse\u001b[39;49;00m\u001b[43m \u001b[49m\u001b[43moverride_th\u001b[49m\n\u001b[0;32m    158\u001b[0m \u001b[43m    \u001b[49m\u001b[43m)\u001b[49m\n\u001b[0;32m    159\u001b[0m     \u001b[38;5;28mself\u001b[39m\u001b[38;5;241m.\u001b[39mjumps \u001b[38;5;241m=\u001b[39m [Jump(el, \u001b[38;5;28mself\u001b[39m\u001b[38;5;241m.\u001b[39mmG_lpf, \u001b[38;5;28mself\u001b[39m\u001b[38;5;241m.\u001b[39mmG, \u001b[38;5;28mself\u001b[39m\u001b[38;5;241m.\u001b[39mgyro) \u001b[38;5;28;01mfor\u001b[39;00m el \u001b[38;5;129;01min\u001b[39;00m lowG_els]\n\u001b[0;32m    160\u001b[0m     \u001b[38;5;28mself\u001b[39m\u001b[38;5;241m.\u001b[39mlogJumpData(override_th)\n",
      "File \u001b[1;32me:\\PROJECTS\\Skiing-Logging\\src\\signal_processing.py:106\u001b[0m, in \u001b[0;36midentifyRangesBelowTH\u001b[1;34m(x, th)\u001b[0m\n\u001b[0;32m    105\u001b[0m \u001b[38;5;28;01mdef\u001b[39;00m \u001b[38;5;21midentifyRangesBelowTH\u001b[39m(x, th):\n\u001b[1;32m--> 106\u001b[0m     idxs \u001b[38;5;241m=\u001b[39m \u001b[43midxsUnderTH\u001b[49m\u001b[43m(\u001b[49m\u001b[43mx\u001b[49m\u001b[43m,\u001b[49m\u001b[43m \u001b[49m\u001b[43mth\u001b[49m\u001b[43m)\u001b[49m\n\u001b[0;32m    107\u001b[0m     \u001b[38;5;28;01mreturn\u001b[39;00m groupClosePointsIntoRanges(idxs)\n",
      "File \u001b[1;32me:\\PROJECTS\\Skiing-Logging\\src\\signal_processing.py:114\u001b[0m, in \u001b[0;36midxsUnderTH\u001b[1;34m(x, th)\u001b[0m\n\u001b[0;32m    110\u001b[0m \u001b[38;5;28;01mdef\u001b[39;00m \u001b[38;5;21midxsUnderTH\u001b[39m(x, th\u001b[38;5;241m=\u001b[39m\u001b[38;5;241m200\u001b[39m):\n\u001b[0;32m    111\u001b[0m \u001b[38;5;250m    \u001b[39m\u001b[38;5;124;03m\"\"\"Return a list of indicies of the input signal `x` whose elements fall\u001b[39;00m\n\u001b[0;32m    112\u001b[0m \u001b[38;5;124;03m    below `th`.\u001b[39;00m\n\u001b[0;32m    113\u001b[0m \u001b[38;5;124;03m    \"\"\"\u001b[39;00m\n\u001b[1;32m--> 114\u001b[0m     \u001b[38;5;28;01mreturn\u001b[39;00m [\u001b[43mx\u001b[49m\u001b[38;5;241;43m.\u001b[39;49m\u001b[43mindex\u001b[49m(xi) \u001b[38;5;28;01mfor\u001b[39;00m xi \u001b[38;5;129;01min\u001b[39;00m x \u001b[38;5;28;01mif\u001b[39;00m xi \u001b[38;5;241m<\u001b[39m th]\n",
      "\u001b[1;31mAttributeError\u001b[0m: 'numpy.ndarray' object has no attribute 'index'"
     ]
    }
   ],
   "source": [
    "session = Session_2023_12_30()"
   ]
  }
 ],
 "metadata": {
  "kernelspec": {
   "display_name": ".venv",
   "language": "python",
   "name": "python3"
  },
  "language_info": {
   "codemirror_mode": {
    "name": "ipython",
    "version": 3
   },
   "file_extension": ".py",
   "mimetype": "text/x-python",
   "name": "python",
   "nbconvert_exporter": "python",
   "pygments_lexer": "ipython3",
   "version": "3.12.1"
  }
 },
 "nbformat": 4,
 "nbformat_minor": 2
}
