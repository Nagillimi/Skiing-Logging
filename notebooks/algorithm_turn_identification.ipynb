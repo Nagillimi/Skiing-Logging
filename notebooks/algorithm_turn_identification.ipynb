{
 "cells": [
  {
   "cell_type": "markdown",
   "metadata": {},
   "source": [
    "# Ski Turn Identification\n",
    "\n",
    "Using yaw rotation about the body frame, G-forces, it's possible to identify turns on downhill track. Isolating carving from skidding may prove difficult, but possible with adequate processing.\n",
    "\n",
    "## Hypotheses\n",
    "\n",
    "- turning G-forces dominate the accelerometer signal magnitudes (next to constant gravity)\n",
    "- aligned euler data will provide accurate representations for edge angle, slope grade, and heading (r, p, y)\n",
    "- it's possible to isolate the ski angle of attack based on the direction of turning tangential velocites wrt to heading\n",
    "\n",
    "### Steps\n",
    "\n",
    "- filter pressure data towards a more accurate altitude signal **its own notebook!**\n",
    "- identify areas of sensor:body realignment (compute rotmat) **its own notebook!**\n",
    "  - low and constant altitude\n",
    "  - constant 1G G-force\n",
    "  - 0 gyro (& mag)\n",
    "  - moment before lift hits legs, waiting on horizontal platform\n",
    "  - moment before constant velocity, as observed while on (non-high speed) chair\n",
    "  - moment while on chair?\n",
    "- identify areas of baseline roll during downhill track for edging angle **its own notebook!**\n",
    "  - lower G-forces, between turns\n",
    "  - middle of heading oscillations\n",
    "- track differences in tangential angles to ski angle (angle of attack) **its own notebook!**\n"
   ]
  }
 ],
 "metadata": {
  "kernelspec": {
   "display_name": ".venv",
   "language": "python",
   "name": "python3"
  },
  "language_info": {
   "name": "python",
   "version": "3.12.1"
  }
 },
 "nbformat": 4,
 "nbformat_minor": 2
}
