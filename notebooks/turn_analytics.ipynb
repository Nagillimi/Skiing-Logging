{
 "cells": [
  {
   "cell_type": "markdown",
   "metadata": {},
   "source": [
    "# Ski Turn Analytics\n",
    "\n",
    "## Hypotheses\n",
    "\n",
    "- aligned euler data will provide accurate representations for edge angle, slope grade, and heading (r, p, y)\n",
    "- it's possible to isolate the ski angle of attack based on the direction of turning tangential velocites wrt to heading\n",
    "\n",
    "## Steps \n",
    "\n",
    "- identify areas of baseline roll during downhill track for edging angle **its own notebook!**\n",
    "  - lower G-forces, between turns\n",
    "  - middle of heading oscillations\n",
    "- track differences in tangential angles to ski angle (angle of attack) **its own notebook!**\n"
   ]
  },
  {
   "cell_type": "code",
   "execution_count": null,
   "metadata": {},
   "outputs": [],
   "source": []
  }
 ],
 "metadata": {
  "language_info": {
   "name": "python"
  }
 },
 "nbformat": 4,
 "nbformat_minor": 2
}
